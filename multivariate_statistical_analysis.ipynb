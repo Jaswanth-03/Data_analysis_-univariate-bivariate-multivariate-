{
  "nbformat": 4,
  "nbformat_minor": 0,
  "metadata": {
    "colab": {
      "provenance": [],
      "authorship_tag": "ABX9TyPBiR8vEEDhNHdEQlUvwjAp",
      "include_colab_link": true
    },
    "kernelspec": {
      "name": "python3",
      "display_name": "Python 3"
    },
    "language_info": {
      "name": "python"
    }
  },
  "cells": [
    {
      "cell_type": "markdown",
      "metadata": {
        "id": "view-in-github",
        "colab_type": "text"
      },
      "source": [
        "<a href=\"https://colab.research.google.com/github/Jaswanth-03/Data_analysis_-univariate-bivariate-multivariate-/blob/main/multivariate_statistical_analysis.ipynb\" target=\"_parent\"><img src=\"https://colab.research.google.com/assets/colab-badge.svg\" alt=\"Open In Colab\"/></a>"
      ]
    },
    {
      "cell_type": "markdown",
      "source": [
        "# multivariate statistical analysis"
      ],
      "metadata": {
        "id": "tpZcDjrguroX"
      }
    },
    {
      "cell_type": "markdown",
      "source": [
        "# Pearson Correlation (for numerical-numerical variables)\n",
        "# Point-Biserial Correlation (for numerical-binary variables)\n",
        "# Spearman Correlation (for ordinal or ranked data)\n",
        "\n"
      ],
      "metadata": {
        "id": "UKMBQ1ufu1_F"
      }
    },
    {
      "cell_type": "code",
      "execution_count": null,
      "metadata": {
        "colab": {
          "base_uri": "https://localhost:8080/"
        },
        "id": "6PgYFGtWAC5m",
        "outputId": "2dd90b49-5cc9-445d-a855-3b8202d0a0b4"
      },
      "outputs": [
        {
          "output_type": "stream",
          "name": "stdout",
          "text": [
            "Pearson Correlation Coefficient: -0.09021640798412515\n",
            "Pearson p-value: 0.3720480081988198\n",
            "Point-Biserial Correlation Coefficient: 0.008165416980407094\n",
            "Point-Biserial p-value: 0.9357370760726117\n",
            "Spearman Correlation Coefficient: -0.05652505793308735\n",
            "Spearman p-value: 0.5764409659091764\n"
          ]
        }
      ],
      "source": [
        "import pandas as pd\n",
        "import numpy as np\n",
        "from scipy.stats import pearsonr, pointbiserialr, spearmanr\n",
        "\n",
        "# Assuming 'data' is your dataset\n",
        "# Let's say 'numerical_column' represents a numerical column\n",
        "# and 'binary_column' represents a binary (0 or 1) categorical column\n",
        "# and 'ordinal_column' represents an ordinal categorical column\n",
        "\n",
        "# Example dataset\n",
        "data = pd.DataFrame({\n",
        "    'numerical_column': np.random.randn(100),\n",
        "    'binary_column': np.random.randint(0, 2, 100),\n",
        "    'ordinal_column': np.random.randint(1, 4, 100)  # Assuming it has 3 levels\n",
        "})\n",
        "\n",
        "# Pearson Correlation (for numerical-numerical variables)\n",
        "# It measures the linear relationship between two continuous variables.\n",
        "# It ranges from -1 to +1, where +1 indicates a perfect positive linear relationship,\n",
        "# -1 indicates a perfect negative linear relationship, and 0 indicates no linear relationship.\n",
        "\n",
        "pearson_corr, pearson_p_value = pearsonr(data['numerical_column'], data['ordinal_column'])\n",
        "print(\"Pearson Correlation Coefficient:\", pearson_corr)\n",
        "print(\"Pearson p-value:\", pearson_p_value)\n",
        "# Additional info: Assumes the variables are normally distributed and have linear relationship.\n",
        "\n",
        "# Point-Biserial Correlation (for numerical-binary variables)\n",
        "# It measures the strength and direction of association between a binary variable and a continuous variable.\n",
        "# It ranges from -1 to +1, where +1 indicates a perfect positive association,\n",
        "# -1 indicates a perfect negative association, and 0 indicates no association.\n",
        "\n",
        "point_biserial_corr, point_biserial_p_value = pointbiserialr(data['numerical_column'], data['binary_column'])\n",
        "print(\"Point-Biserial Correlation Coefficient:\", point_biserial_corr)\n",
        "print(\"Point-Biserial p-value:\", point_biserial_p_value)\n",
        "# Additional info: Assumes the continuous variable is normally distributed.\n",
        "\n",
        "# Spearman Correlation (for ordinal or ranked data)\n",
        "# It measures the strength and direction of monotonic association between two variables.\n",
        "# It does not assume linearity and can handle non-linear relationships.\n",
        "# It ranges from -1 to +1, similar to Pearson correlation.\n",
        "\n",
        "spearman_corr, spearman_p_value = spearmanr(data['numerical_column'], data['ordinal_column'])\n",
        "print(\"Spearman Correlation Coefficient:\", spearman_corr)\n",
        "print(\"Spearman p-value:\", spearman_p_value)\n",
        "# Additional info: Appropriate for ordinal or ranked data, less sensitive to outliers.\n"
      ]
    },
    {
      "cell_type": "markdown",
      "source": [
        "# One-Way ANOVA (for one categorical independent variable)\n"
      ],
      "metadata": {
        "id": "aOJfJvqpvFV0"
      }
    },
    {
      "cell_type": "code",
      "source": [
        "import pandas as pd\n",
        "import numpy as np\n",
        "from scipy.stats import f_oneway\n",
        "\n",
        "# Example dataset\n",
        "data = pd.DataFrame({\n",
        "    'categorical_column_1': np.random.choice(['A', 'B', 'C'], 100),\n",
        "    'categorical_column_2': np.random.choice(['X', 'Y'], 100),\n",
        "    'numerical_column': np.random.randn(100),\n",
        "})\n",
        "\n",
        "# One-Way ANOVA (for one categorical independent variable)\n",
        "# It tests whether the means of a numerical variable differ across levels of a categorical variable.\n",
        "# It's used to determine if there are any statistically significant differences between the means of three or more independent (unrelated) groups.\n",
        "# It's often used in experimental research to compare means across different treatment groups.\n",
        "\n",
        "# Example of One-Way ANOVA\n",
        "# Here, 'numerical_column' is the dependent variable and 'categorical_column_1' is the independent variable.\n",
        "# We're testing if the mean of 'numerical_column' differs across levels of 'categorical_column_1'.\n",
        "result_one_way_anova = f_oneway(*[data[data['categorical_column_1'] == group]['numerical_column'] for group in data['categorical_column_1'].unique()])\n",
        "print(\"One-Way ANOVA F-statistic:\", result_one_way_anova.statistic)\n",
        "print(\"One-Way ANOVA p-value:\", result_one_way_anova.pvalue)\n",
        "# Additional info: Assumes normal distribution of data and equal variances between groups.\n",
        "\n",
        "# One-Way ANOVA Conclusion\n",
        "alpha = 0.05  # significance level\n",
        "if result_one_way_anova.pvalue < alpha:\n",
        "    print(\"Conclusion: Reject the null hypothesis.\")\n",
        "    print(\"There is sufficient evidence to conclude that there are significant differences in means across groups.\")\n",
        "else:\n",
        "    print(\"Conclusion: Fail to reject the null hypothesis.\")\n",
        "    print(\"There is not enough evidence to conclude that there are significant differences in means across groups.\")\n"
      ],
      "metadata": {
        "colab": {
          "base_uri": "https://localhost:8080/"
        },
        "id": "MfhgJgzwFEnE",
        "outputId": "2a5794a2-2a30-42de-f378-84d247351cb1"
      },
      "execution_count": null,
      "outputs": [
        {
          "output_type": "stream",
          "name": "stdout",
          "text": [
            "One-Way ANOVA F-statistic: 0.6293970556434174\n",
            "One-Way ANOVA p-value: 0.5350751240705005\n",
            "Conclusion: Fail to reject the null hypothesis.\n",
            "There is not enough evidence to conclude that there are significant differences in means across groups.\n"
          ]
        }
      ]
    },
    {
      "cell_type": "markdown",
      "source": [
        "# Two-Way ANOVA"
      ],
      "metadata": {
        "id": "hBeb5n6xvN4E"
      }
    },
    {
      "cell_type": "code",
      "source": [
        "import pandas as pd\n",
        "import numpy as np\n",
        "from scipy.stats import f_oneway\n",
        "from statsmodels.formula.api import ols\n",
        "from statsmodels.stats.anova import anova_lm\n",
        "\n",
        "# Example dataset\n",
        "data = pd.DataFrame({\n",
        "    'categorical_column_1': np.random.choice(['A', 'B', 'C'], 100),\n",
        "    'categorical_column_2': np.random.choice(['X', 'Y'], 100),\n",
        "    'numerical_column': np.random.randn(100),\n",
        "})\n",
        "\n",
        "# Two-Way ANOVA (for two categorical independent variables)\n",
        "# It extends One-Way ANOVA to include the effects of two categorical independent variables on a numerical dependent variable.\n",
        "# It allows us to test the main effects of each independent variable as well as the interaction effect between them.\n",
        "# It's used when you have two categorical independent variables and one numerical dependent variable.\n",
        "# It's commonly used in experimental design to analyze the impact of two factors on an outcome simultaneously.\n",
        "\n",
        "# Example of Two-Way ANOVA\n",
        "# Here, 'numerical_column' is the dependent variable, and we're considering the interaction between 'categorical_column_1' and 'categorical_column_2'.\n",
        "model = ols('numerical_column ~ C(categorical_column_1) * C(categorical_column_2)', data).fit()\n",
        "anova_table = anova_lm(model, typ=2)\n",
        "print(\"\\nTwo-Way ANOVA Summary:\")\n",
        "print(anova_table)\n",
        "# Additional info: Interaction effect tests whether the effect of one independent variable differs across levels of the other independent variable.\n",
        "\n",
        "# Conclusion from Two-Way ANOVA\n",
        "alpha = 0.05  # significance level\n",
        "p_interaction = anova_table.loc['C(categorical_column_1):C(categorical_column_2)', 'PR(>F)']  # p-value for interaction effect\n",
        "if p_interaction < alpha:\n",
        "    print(\"\\nConclusion: There is a significant interaction effect between 'categorical_column_1' and 'categorical_column_2'.\")\n",
        "else:\n",
        "    print(\"\\nConclusion: There is no significant interaction effect between 'categorical_column_1' and 'categorical_column_2'.\")\n"
      ],
      "metadata": {
        "colab": {
          "base_uri": "https://localhost:8080/"
        },
        "id": "Nvo_owI0FKkx",
        "outputId": "32ce4307-74cd-4b77-9310-6989a4e90120"
      },
      "execution_count": null,
      "outputs": [
        {
          "output_type": "stream",
          "name": "stdout",
          "text": [
            "\n",
            "Two-Way ANOVA Summary:\n",
            "                                                    sum_sq    df         F  \\\n",
            "C(categorical_column_1)                           1.598626   2.0  0.955588   \n",
            "C(categorical_column_2)                           1.249020   1.0  1.493218   \n",
            "C(categorical_column_1):C(categorical_column_2)   0.964307   2.0  0.576420   \n",
            "Residual                                         78.627444  94.0       NaN   \n",
            "\n",
            "                                                   PR(>F)  \n",
            "C(categorical_column_1)                          0.388290  \n",
            "C(categorical_column_2)                          0.224773  \n",
            "C(categorical_column_1):C(categorical_column_2)  0.563880  \n",
            "Residual                                              NaN  \n",
            "\n",
            "Conclusion: There is no significant interaction effect between 'categorical_column_1' and 'categorical_column_2'.\n"
          ]
        }
      ]
    },
    {
      "cell_type": "markdown",
      "source": [
        "# MANCOVA"
      ],
      "metadata": {
        "id": "eyqSeF0OvW9s"
      }
    },
    {
      "cell_type": "code",
      "source": [
        "import pandas as pd\n",
        "import numpy as np\n",
        "from statsmodels.multivariate.manova import MANOVA\n",
        "\n",
        "# Example dataset\n",
        "data = pd.DataFrame({\n",
        "    'categorical_column': np.random.choice(['A', 'B', 'C'], 100),\n",
        "    'numerical_column_1': np.random.randn(100),\n",
        "    'numerical_column_2': np.random.randn(100),\n",
        "    'numerical_column_3': np.random.randn(100),\n",
        "    'covariate_1': np.random.rand(100),\n",
        "    'covariate_2': np.random.rand(100)\n",
        "})\n",
        "\n",
        "# MANCOVA (Multivariate Analysis of Covariance) if you have multiple dependent variables and continuous covariates\n",
        "# MANCOVA extends MANOVA by including one or more continuous covariates in the analysis.\n",
        "# It assesses whether the mean vectors of the multiple dependent variables differ significantly across levels of one or more independent variables, while controlling for the effects of continuous covariates.\n",
        "# MANCOVA is used when you want to investigate the impact of categorical factors on multiple outcome variables while considering the influence of continuous covariates.\n",
        "# It's commonly applied in research studies where there is a need to control for potential confounding variables.\n",
        "\n",
        "# Example of MANCOVA\n",
        "# Here, 'categorical_column' is the independent variable, 'numerical_column_1', 'numerical_column_2', and 'numerical_column_3' are dependent variables,\n",
        "# and 'covariate_1' and 'covariate_2' are continuous covariates.\n",
        "manova_model = MANOVA.from_formula('numerical_column_1 + numerical_column_2 + numerical_column_3 ~ categorical_column + covariate_1 + covariate_2', data=data)\n",
        "manova_results = manova_model.mv_test()\n",
        "\n",
        "# Print the MANCOVA summary\n",
        "print(\"\\nMANCOVA Summary:\")\n",
        "print(manova_results.summary())\n",
        "\n",
        "# Conclusion from MANOVA\n",
        "alpha = 0.05  # significance level\n",
        "p_values = []\n",
        "for table in manova_results.summary().tables:\n",
        "    for row in table.data:\n",
        "        if 'Pr > F' in row:\n",
        "            p_values.append(float(row[-1]))\n",
        "\n",
        "if any(pval < alpha for pval in p_values):\n",
        "    print(\"\\nConclusion: At least one of the dependent variables shows a significant difference across groups.\")\n",
        "else:\n",
        "    print(\"\\nConclusion: None of the dependent variables show a significant difference across groups.\")\n",
        "\n"
      ],
      "metadata": {
        "colab": {
          "base_uri": "https://localhost:8080/",
          "height": 1000
        },
        "id": "mNAMqEbEJBdx",
        "outputId": "5e6e662e-4f44-4ca9-9256-cf64e7af9968"
      },
      "execution_count": null,
      "outputs": [
        {
          "output_type": "stream",
          "name": "stdout",
          "text": [
            "\n",
            "MANCOVA Summary:\n",
            "                  Multivariate linear model\n",
            "=============================================================\n",
            "                                                             \n",
            "-------------------------------------------------------------\n",
            "        Intercept        Value  Num DF  Den DF F Value Pr > F\n",
            "-------------------------------------------------------------\n",
            "           Wilks' lambda 0.9963 3.0000 93.0000  0.1153 0.9509\n",
            "          Pillai's trace 0.0037 3.0000 93.0000  0.1153 0.9509\n",
            "  Hotelling-Lawley trace 0.0037 3.0000 93.0000  0.1153 0.9509\n",
            "     Roy's greatest root 0.0037 3.0000 93.0000  0.1153 0.9509\n",
            "-------------------------------------------------------------\n",
            "                                                             \n",
            "-------------------------------------------------------------\n",
            "   categorical_column   Value  Num DF  Den DF  F Value Pr > F\n",
            "-------------------------------------------------------------\n",
            "          Wilks' lambda 0.9592 6.0000 186.0000  0.6527 0.6879\n",
            "         Pillai's trace 0.0409 6.0000 188.0000  0.6545 0.6865\n",
            " Hotelling-Lawley trace 0.0424 6.0000 122.2383  0.6545 0.6864\n",
            "    Roy's greatest root 0.0397 3.0000  94.0000  1.2441 0.2982\n",
            "-------------------------------------------------------------\n",
            "                                                             \n",
            "-------------------------------------------------------------\n",
            "       covariate_1       Value  Num DF  Den DF F Value Pr > F\n",
            "-------------------------------------------------------------\n",
            "           Wilks' lambda 0.9828 3.0000 93.0000  0.5438 0.6535\n",
            "          Pillai's trace 0.0172 3.0000 93.0000  0.5438 0.6535\n",
            "  Hotelling-Lawley trace 0.0175 3.0000 93.0000  0.5438 0.6535\n",
            "     Roy's greatest root 0.0175 3.0000 93.0000  0.5438 0.6535\n",
            "-------------------------------------------------------------\n",
            "                                                             \n",
            "-------------------------------------------------------------\n",
            "       covariate_2       Value  Num DF  Den DF F Value Pr > F\n",
            "-------------------------------------------------------------\n",
            "           Wilks' lambda 0.9871 3.0000 93.0000  0.4043 0.7502\n",
            "          Pillai's trace 0.0129 3.0000 93.0000  0.4043 0.7502\n",
            "  Hotelling-Lawley trace 0.0130 3.0000 93.0000  0.4043 0.7502\n",
            "     Roy's greatest root 0.0130 3.0000 93.0000  0.4043 0.7502\n",
            "=============================================================\n",
            "\n"
          ]
        },
        {
          "output_type": "error",
          "ename": "AttributeError",
          "evalue": "'DataFrame' object has no attribute 'data'",
          "traceback": [
            "\u001b[0;31m---------------------------------------------------------------------------\u001b[0m",
            "\u001b[0;31mAttributeError\u001b[0m                            Traceback (most recent call last)",
            "\u001b[0;32m<ipython-input-31-13d72a567e28>\u001b[0m in \u001b[0;36m<cell line: 34>\u001b[0;34m()\u001b[0m\n\u001b[1;32m     33\u001b[0m \u001b[0mp_values\u001b[0m \u001b[0;34m=\u001b[0m \u001b[0;34m[\u001b[0m\u001b[0;34m]\u001b[0m\u001b[0;34m\u001b[0m\u001b[0;34m\u001b[0m\u001b[0m\n\u001b[1;32m     34\u001b[0m \u001b[0;32mfor\u001b[0m \u001b[0mtable\u001b[0m \u001b[0;32min\u001b[0m \u001b[0mmanova_results\u001b[0m\u001b[0;34m.\u001b[0m\u001b[0msummary\u001b[0m\u001b[0;34m(\u001b[0m\u001b[0;34m)\u001b[0m\u001b[0;34m.\u001b[0m\u001b[0mtables\u001b[0m\u001b[0;34m:\u001b[0m\u001b[0;34m\u001b[0m\u001b[0;34m\u001b[0m\u001b[0m\n\u001b[0;32m---> 35\u001b[0;31m     \u001b[0;32mfor\u001b[0m \u001b[0mrow\u001b[0m \u001b[0;32min\u001b[0m \u001b[0mtable\u001b[0m\u001b[0;34m.\u001b[0m\u001b[0mdata\u001b[0m\u001b[0;34m:\u001b[0m\u001b[0;34m\u001b[0m\u001b[0;34m\u001b[0m\u001b[0m\n\u001b[0m\u001b[1;32m     36\u001b[0m         \u001b[0;32mif\u001b[0m \u001b[0;34m'Pr > F'\u001b[0m \u001b[0;32min\u001b[0m \u001b[0mrow\u001b[0m\u001b[0;34m:\u001b[0m\u001b[0;34m\u001b[0m\u001b[0;34m\u001b[0m\u001b[0m\n\u001b[1;32m     37\u001b[0m             \u001b[0mp_values\u001b[0m\u001b[0;34m.\u001b[0m\u001b[0mappend\u001b[0m\u001b[0;34m(\u001b[0m\u001b[0mfloat\u001b[0m\u001b[0;34m(\u001b[0m\u001b[0mrow\u001b[0m\u001b[0;34m[\u001b[0m\u001b[0;34m-\u001b[0m\u001b[0;36m1\u001b[0m\u001b[0;34m]\u001b[0m\u001b[0;34m)\u001b[0m\u001b[0;34m)\u001b[0m\u001b[0;34m\u001b[0m\u001b[0;34m\u001b[0m\u001b[0m\n",
            "\u001b[0;32m/usr/local/lib/python3.10/dist-packages/pandas/core/generic.py\u001b[0m in \u001b[0;36m__getattr__\u001b[0;34m(self, name)\u001b[0m\n\u001b[1;32m   5900\u001b[0m         ):\n\u001b[1;32m   5901\u001b[0m             \u001b[0;32mreturn\u001b[0m \u001b[0mself\u001b[0m\u001b[0;34m[\u001b[0m\u001b[0mname\u001b[0m\u001b[0;34m]\u001b[0m\u001b[0;34m\u001b[0m\u001b[0;34m\u001b[0m\u001b[0m\n\u001b[0;32m-> 5902\u001b[0;31m         \u001b[0;32mreturn\u001b[0m \u001b[0mobject\u001b[0m\u001b[0;34m.\u001b[0m\u001b[0m__getattribute__\u001b[0m\u001b[0;34m(\u001b[0m\u001b[0mself\u001b[0m\u001b[0;34m,\u001b[0m \u001b[0mname\u001b[0m\u001b[0;34m)\u001b[0m\u001b[0;34m\u001b[0m\u001b[0;34m\u001b[0m\u001b[0m\n\u001b[0m\u001b[1;32m   5903\u001b[0m \u001b[0;34m\u001b[0m\u001b[0m\n\u001b[1;32m   5904\u001b[0m     \u001b[0;32mdef\u001b[0m \u001b[0m__setattr__\u001b[0m\u001b[0;34m(\u001b[0m\u001b[0mself\u001b[0m\u001b[0;34m,\u001b[0m \u001b[0mname\u001b[0m\u001b[0;34m:\u001b[0m \u001b[0mstr\u001b[0m\u001b[0;34m,\u001b[0m \u001b[0mvalue\u001b[0m\u001b[0;34m)\u001b[0m \u001b[0;34m->\u001b[0m \u001b[0;32mNone\u001b[0m\u001b[0;34m:\u001b[0m\u001b[0;34m\u001b[0m\u001b[0;34m\u001b[0m\u001b[0m\n",
            "\u001b[0;31mAttributeError\u001b[0m: 'DataFrame' object has no attribute 'data'"
          ]
        }
      ]
    }
  ]
}