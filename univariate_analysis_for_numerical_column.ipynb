{
  "nbformat": 4,
  "nbformat_minor": 0,
  "metadata": {
    "colab": {
      "provenance": [],
      "authorship_tag": "ABX9TyN5gXxNfQlSjcoj+P8DBlmO",
      "include_colab_link": true
    },
    "kernelspec": {
      "name": "python3",
      "display_name": "Python 3"
    },
    "language_info": {
      "name": "python"
    }
  },
  "cells": [
    {
      "cell_type": "markdown",
      "metadata": {
        "id": "view-in-github",
        "colab_type": "text"
      },
      "source": [
        "<a href=\"https://colab.research.google.com/github/Jaswanth-03/Data_analysis_-univariate-bivariate-multivariate-/blob/main/univariate_analysis_for_numerical_column.ipynb\" target=\"_parent\"><img src=\"https://colab.research.google.com/assets/colab-badge.svg\" alt=\"Open In Colab\"/></a>"
      ]
    },
    {
      "cell_type": "markdown",
      "source": [
        "# univariate analysis on numerical column"
      ],
      "metadata": {
        "id": "XP9qU9S4QnDB"
      }
    },
    {
      "cell_type": "markdown",
      "source": [
        "\n",
        "# Generating an example numerical dataset\n",
        "\n",
        "\n"
      ],
      "metadata": {
        "id": "__vJ4bR2o47B"
      }
    },
    {
      "cell_type": "code",
      "source": [
        "# Import necessary libraries\n",
        "import pandas as pd\n",
        "import seaborn as sns\n",
        "import matplotlib.pyplot as plt\n",
        "import numpy as np\n",
        "\n",
        "# Creating example numerical dataset\n",
        "np.random.seed(0)\n",
        "data = np.random.normal(loc=0, scale=1, size=1000)  # Example numerical data (normal distribution)\n",
        "df = pd.DataFrame(data, columns=['Numerical_Column'])\n",
        "\n",
        "# Purpose: Import required libraries and generate an example numerical dataset.\n",
        "# Usage: This step is used to prepare the environment and create synthetic data for analysis.\n",
        "# When to use: It is typically the first step in a data analysis workflow to set up the environment and generate sample data.\n",
        "# How to use: Import necessary libraries, set random seed for reproducibility, and create a DataFrame with synthetic data.\n",
        "# Other Info: The numpy library is used to generate random data, while pandas is used to create a DataFrame to store the data.\n"
      ],
      "metadata": {
        "id": "bh_j07C6Rnky"
      },
      "execution_count": null,
      "outputs": []
    },
    {
      "cell_type": "code",
      "source": [
        "df"
      ],
      "metadata": {
        "colab": {
          "base_uri": "https://localhost:8080/",
          "height": 423
        },
        "id": "MEHtWX4qjTxY",
        "outputId": "0293d0a2-d77d-4fde-94e7-4039d586807c"
      },
      "execution_count": null,
      "outputs": [
        {
          "output_type": "execute_result",
          "data": {
            "text/plain": [
              "     Numerical_Column\n",
              "0            1.764052\n",
              "1            0.400157\n",
              "2            0.978738\n",
              "3            2.240893\n",
              "4            1.867558\n",
              "..                ...\n",
              "995          0.412871\n",
              "996         -0.198399\n",
              "997          0.094192\n",
              "998         -1.147611\n",
              "999         -0.358114\n",
              "\n",
              "[1000 rows x 1 columns]"
            ],
            "text/html": [
              "\n",
              "  <div id=\"df-30fca755-bc85-42a0-841e-ec0c81184bc5\" class=\"colab-df-container\">\n",
              "    <div>\n",
              "<style scoped>\n",
              "    .dataframe tbody tr th:only-of-type {\n",
              "        vertical-align: middle;\n",
              "    }\n",
              "\n",
              "    .dataframe tbody tr th {\n",
              "        vertical-align: top;\n",
              "    }\n",
              "\n",
              "    .dataframe thead th {\n",
              "        text-align: right;\n",
              "    }\n",
              "</style>\n",
              "<table border=\"1\" class=\"dataframe\">\n",
              "  <thead>\n",
              "    <tr style=\"text-align: right;\">\n",
              "      <th></th>\n",
              "      <th>Numerical_Column</th>\n",
              "    </tr>\n",
              "  </thead>\n",
              "  <tbody>\n",
              "    <tr>\n",
              "      <th>0</th>\n",
              "      <td>1.764052</td>\n",
              "    </tr>\n",
              "    <tr>\n",
              "      <th>1</th>\n",
              "      <td>0.400157</td>\n",
              "    </tr>\n",
              "    <tr>\n",
              "      <th>2</th>\n",
              "      <td>0.978738</td>\n",
              "    </tr>\n",
              "    <tr>\n",
              "      <th>3</th>\n",
              "      <td>2.240893</td>\n",
              "    </tr>\n",
              "    <tr>\n",
              "      <th>4</th>\n",
              "      <td>1.867558</td>\n",
              "    </tr>\n",
              "    <tr>\n",
              "      <th>...</th>\n",
              "      <td>...</td>\n",
              "    </tr>\n",
              "    <tr>\n",
              "      <th>995</th>\n",
              "      <td>0.412871</td>\n",
              "    </tr>\n",
              "    <tr>\n",
              "      <th>996</th>\n",
              "      <td>-0.198399</td>\n",
              "    </tr>\n",
              "    <tr>\n",
              "      <th>997</th>\n",
              "      <td>0.094192</td>\n",
              "    </tr>\n",
              "    <tr>\n",
              "      <th>998</th>\n",
              "      <td>-1.147611</td>\n",
              "    </tr>\n",
              "    <tr>\n",
              "      <th>999</th>\n",
              "      <td>-0.358114</td>\n",
              "    </tr>\n",
              "  </tbody>\n",
              "</table>\n",
              "<p>1000 rows × 1 columns</p>\n",
              "</div>\n",
              "    <div class=\"colab-df-buttons\">\n",
              "\n",
              "  <div class=\"colab-df-container\">\n",
              "    <button class=\"colab-df-convert\" onclick=\"convertToInteractive('df-30fca755-bc85-42a0-841e-ec0c81184bc5')\"\n",
              "            title=\"Convert this dataframe to an interactive table.\"\n",
              "            style=\"display:none;\">\n",
              "\n",
              "  <svg xmlns=\"http://www.w3.org/2000/svg\" height=\"24px\" viewBox=\"0 -960 960 960\">\n",
              "    <path d=\"M120-120v-720h720v720H120Zm60-500h600v-160H180v160Zm220 220h160v-160H400v160Zm0 220h160v-160H400v160ZM180-400h160v-160H180v160Zm440 0h160v-160H620v160ZM180-180h160v-160H180v160Zm440 0h160v-160H620v160Z\"/>\n",
              "  </svg>\n",
              "    </button>\n",
              "\n",
              "  <style>\n",
              "    .colab-df-container {\n",
              "      display:flex;\n",
              "      gap: 12px;\n",
              "    }\n",
              "\n",
              "    .colab-df-convert {\n",
              "      background-color: #E8F0FE;\n",
              "      border: none;\n",
              "      border-radius: 50%;\n",
              "      cursor: pointer;\n",
              "      display: none;\n",
              "      fill: #1967D2;\n",
              "      height: 32px;\n",
              "      padding: 0 0 0 0;\n",
              "      width: 32px;\n",
              "    }\n",
              "\n",
              "    .colab-df-convert:hover {\n",
              "      background-color: #E2EBFA;\n",
              "      box-shadow: 0px 1px 2px rgba(60, 64, 67, 0.3), 0px 1px 3px 1px rgba(60, 64, 67, 0.15);\n",
              "      fill: #174EA6;\n",
              "    }\n",
              "\n",
              "    .colab-df-buttons div {\n",
              "      margin-bottom: 4px;\n",
              "    }\n",
              "\n",
              "    [theme=dark] .colab-df-convert {\n",
              "      background-color: #3B4455;\n",
              "      fill: #D2E3FC;\n",
              "    }\n",
              "\n",
              "    [theme=dark] .colab-df-convert:hover {\n",
              "      background-color: #434B5C;\n",
              "      box-shadow: 0px 1px 3px 1px rgba(0, 0, 0, 0.15);\n",
              "      filter: drop-shadow(0px 1px 2px rgba(0, 0, 0, 0.3));\n",
              "      fill: #FFFFFF;\n",
              "    }\n",
              "  </style>\n",
              "\n",
              "    <script>\n",
              "      const buttonEl =\n",
              "        document.querySelector('#df-30fca755-bc85-42a0-841e-ec0c81184bc5 button.colab-df-convert');\n",
              "      buttonEl.style.display =\n",
              "        google.colab.kernel.accessAllowed ? 'block' : 'none';\n",
              "\n",
              "      async function convertToInteractive(key) {\n",
              "        const element = document.querySelector('#df-30fca755-bc85-42a0-841e-ec0c81184bc5');\n",
              "        const dataTable =\n",
              "          await google.colab.kernel.invokeFunction('convertToInteractive',\n",
              "                                                    [key], {});\n",
              "        if (!dataTable) return;\n",
              "\n",
              "        const docLinkHtml = 'Like what you see? Visit the ' +\n",
              "          '<a target=\"_blank\" href=https://colab.research.google.com/notebooks/data_table.ipynb>data table notebook</a>'\n",
              "          + ' to learn more about interactive tables.';\n",
              "        element.innerHTML = '';\n",
              "        dataTable['output_type'] = 'display_data';\n",
              "        await google.colab.output.renderOutput(dataTable, element);\n",
              "        const docLink = document.createElement('div');\n",
              "        docLink.innerHTML = docLinkHtml;\n",
              "        element.appendChild(docLink);\n",
              "      }\n",
              "    </script>\n",
              "  </div>\n",
              "\n",
              "\n",
              "<div id=\"df-8c7296aa-3d3b-48bd-9e78-a51c2dc8923a\">\n",
              "  <button class=\"colab-df-quickchart\" onclick=\"quickchart('df-8c7296aa-3d3b-48bd-9e78-a51c2dc8923a')\"\n",
              "            title=\"Suggest charts\"\n",
              "            style=\"display:none;\">\n",
              "\n",
              "<svg xmlns=\"http://www.w3.org/2000/svg\" height=\"24px\"viewBox=\"0 0 24 24\"\n",
              "     width=\"24px\">\n",
              "    <g>\n",
              "        <path d=\"M19 3H5c-1.1 0-2 .9-2 2v14c0 1.1.9 2 2 2h14c1.1 0 2-.9 2-2V5c0-1.1-.9-2-2-2zM9 17H7v-7h2v7zm4 0h-2V7h2v10zm4 0h-2v-4h2v4z\"/>\n",
              "    </g>\n",
              "</svg>\n",
              "  </button>\n",
              "\n",
              "<style>\n",
              "  .colab-df-quickchart {\n",
              "      --bg-color: #E8F0FE;\n",
              "      --fill-color: #1967D2;\n",
              "      --hover-bg-color: #E2EBFA;\n",
              "      --hover-fill-color: #174EA6;\n",
              "      --disabled-fill-color: #AAA;\n",
              "      --disabled-bg-color: #DDD;\n",
              "  }\n",
              "\n",
              "  [theme=dark] .colab-df-quickchart {\n",
              "      --bg-color: #3B4455;\n",
              "      --fill-color: #D2E3FC;\n",
              "      --hover-bg-color: #434B5C;\n",
              "      --hover-fill-color: #FFFFFF;\n",
              "      --disabled-bg-color: #3B4455;\n",
              "      --disabled-fill-color: #666;\n",
              "  }\n",
              "\n",
              "  .colab-df-quickchart {\n",
              "    background-color: var(--bg-color);\n",
              "    border: none;\n",
              "    border-radius: 50%;\n",
              "    cursor: pointer;\n",
              "    display: none;\n",
              "    fill: var(--fill-color);\n",
              "    height: 32px;\n",
              "    padding: 0;\n",
              "    width: 32px;\n",
              "  }\n",
              "\n",
              "  .colab-df-quickchart:hover {\n",
              "    background-color: var(--hover-bg-color);\n",
              "    box-shadow: 0 1px 2px rgba(60, 64, 67, 0.3), 0 1px 3px 1px rgba(60, 64, 67, 0.15);\n",
              "    fill: var(--button-hover-fill-color);\n",
              "  }\n",
              "\n",
              "  .colab-df-quickchart-complete:disabled,\n",
              "  .colab-df-quickchart-complete:disabled:hover {\n",
              "    background-color: var(--disabled-bg-color);\n",
              "    fill: var(--disabled-fill-color);\n",
              "    box-shadow: none;\n",
              "  }\n",
              "\n",
              "  .colab-df-spinner {\n",
              "    border: 2px solid var(--fill-color);\n",
              "    border-color: transparent;\n",
              "    border-bottom-color: var(--fill-color);\n",
              "    animation:\n",
              "      spin 1s steps(1) infinite;\n",
              "  }\n",
              "\n",
              "  @keyframes spin {\n",
              "    0% {\n",
              "      border-color: transparent;\n",
              "      border-bottom-color: var(--fill-color);\n",
              "      border-left-color: var(--fill-color);\n",
              "    }\n",
              "    20% {\n",
              "      border-color: transparent;\n",
              "      border-left-color: var(--fill-color);\n",
              "      border-top-color: var(--fill-color);\n",
              "    }\n",
              "    30% {\n",
              "      border-color: transparent;\n",
              "      border-left-color: var(--fill-color);\n",
              "      border-top-color: var(--fill-color);\n",
              "      border-right-color: var(--fill-color);\n",
              "    }\n",
              "    40% {\n",
              "      border-color: transparent;\n",
              "      border-right-color: var(--fill-color);\n",
              "      border-top-color: var(--fill-color);\n",
              "    }\n",
              "    60% {\n",
              "      border-color: transparent;\n",
              "      border-right-color: var(--fill-color);\n",
              "    }\n",
              "    80% {\n",
              "      border-color: transparent;\n",
              "      border-right-color: var(--fill-color);\n",
              "      border-bottom-color: var(--fill-color);\n",
              "    }\n",
              "    90% {\n",
              "      border-color: transparent;\n",
              "      border-bottom-color: var(--fill-color);\n",
              "    }\n",
              "  }\n",
              "</style>\n",
              "\n",
              "  <script>\n",
              "    async function quickchart(key) {\n",
              "      const quickchartButtonEl =\n",
              "        document.querySelector('#' + key + ' button');\n",
              "      quickchartButtonEl.disabled = true;  // To prevent multiple clicks.\n",
              "      quickchartButtonEl.classList.add('colab-df-spinner');\n",
              "      try {\n",
              "        const charts = await google.colab.kernel.invokeFunction(\n",
              "            'suggestCharts', [key], {});\n",
              "      } catch (error) {\n",
              "        console.error('Error during call to suggestCharts:', error);\n",
              "      }\n",
              "      quickchartButtonEl.classList.remove('colab-df-spinner');\n",
              "      quickchartButtonEl.classList.add('colab-df-quickchart-complete');\n",
              "    }\n",
              "    (() => {\n",
              "      let quickchartButtonEl =\n",
              "        document.querySelector('#df-8c7296aa-3d3b-48bd-9e78-a51c2dc8923a button');\n",
              "      quickchartButtonEl.style.display =\n",
              "        google.colab.kernel.accessAllowed ? 'block' : 'none';\n",
              "    })();\n",
              "  </script>\n",
              "</div>\n",
              "    </div>\n",
              "  </div>\n"
            ],
            "application/vnd.google.colaboratory.intrinsic+json": {
              "type": "dataframe",
              "variable_name": "df",
              "summary": "{\n  \"name\": \"df\",\n  \"rows\": 1000,\n  \"fields\": [\n    {\n      \"column\": \"Numerical_Column\",\n      \"properties\": {\n        \"dtype\": \"number\",\n        \"std\": 0.9875270456945128,\n        \"min\": -3.0461430547999266,\n        \"max\": 2.759355114021582,\n        \"num_unique_values\": 1000,\n        \"samples\": [\n          -0.9130792180417964,\n          -1.2845522979925272,\n          -1.1776289624826308\n        ],\n        \"semantic_type\": \"\",\n        \"description\": \"\"\n      }\n    }\n  ]\n}"
            }
          },
          "metadata": {},
          "execution_count": 32
        }
      ]
    },
    {
      "cell_type": "markdown",
      "source": [
        "# Descriptive Statistics"
      ],
      "metadata": {
        "id": "g0jNZt67qFj-"
      }
    },
    {
      "cell_type": "code",
      "source": [
        "# Descriptive Statistics\n",
        "print(\"Descriptive Statistics:\")\n",
        "df.describe()\n",
        "\n",
        "# Purpose: Print descriptive statistics of the numerical column.\n",
        "# Usage: Descriptive statistics provide a summary of the central tendency, dispersion, and shape of the numerical data.\n",
        "# When to use: It is used to understand the distribution and characteristics of the numerical column.\n",
        "# How to use: Use the describe() method of pandas DataFrame to compute summary statistics.\n",
        "# Other Info: Summary statistics include count, mean, standard deviation, minimum, 25th percentile (Q1), median (50th percentile), 75th percentile (Q3), and maximum.\n"
      ],
      "metadata": {
        "colab": {
          "base_uri": "https://localhost:8080/",
          "height": 317
        },
        "id": "8NEnO4PgVI4i",
        "outputId": "519966a2-2f3d-4ce6-ce30-1b841a5f8161"
      },
      "execution_count": null,
      "outputs": [
        {
          "output_type": "stream",
          "name": "stdout",
          "text": [
            "Descriptive Statistics:\n"
          ]
        },
        {
          "output_type": "execute_result",
          "data": {
            "text/plain": [
              "       Numerical_Column\n",
              "count       1000.000000\n",
              "mean          -0.045257\n",
              "std            0.987527\n",
              "min           -3.046143\n",
              "25%           -0.698420\n",
              "50%           -0.058028\n",
              "75%            0.606951\n",
              "max            2.759355"
            ],
            "text/html": [
              "\n",
              "  <div id=\"df-e6380c00-4226-4470-918e-0cf15fe7710f\" class=\"colab-df-container\">\n",
              "    <div>\n",
              "<style scoped>\n",
              "    .dataframe tbody tr th:only-of-type {\n",
              "        vertical-align: middle;\n",
              "    }\n",
              "\n",
              "    .dataframe tbody tr th {\n",
              "        vertical-align: top;\n",
              "    }\n",
              "\n",
              "    .dataframe thead th {\n",
              "        text-align: right;\n",
              "    }\n",
              "</style>\n",
              "<table border=\"1\" class=\"dataframe\">\n",
              "  <thead>\n",
              "    <tr style=\"text-align: right;\">\n",
              "      <th></th>\n",
              "      <th>Numerical_Column</th>\n",
              "    </tr>\n",
              "  </thead>\n",
              "  <tbody>\n",
              "    <tr>\n",
              "      <th>count</th>\n",
              "      <td>1000.000000</td>\n",
              "    </tr>\n",
              "    <tr>\n",
              "      <th>mean</th>\n",
              "      <td>-0.045257</td>\n",
              "    </tr>\n",
              "    <tr>\n",
              "      <th>std</th>\n",
              "      <td>0.987527</td>\n",
              "    </tr>\n",
              "    <tr>\n",
              "      <th>min</th>\n",
              "      <td>-3.046143</td>\n",
              "    </tr>\n",
              "    <tr>\n",
              "      <th>25%</th>\n",
              "      <td>-0.698420</td>\n",
              "    </tr>\n",
              "    <tr>\n",
              "      <th>50%</th>\n",
              "      <td>-0.058028</td>\n",
              "    </tr>\n",
              "    <tr>\n",
              "      <th>75%</th>\n",
              "      <td>0.606951</td>\n",
              "    </tr>\n",
              "    <tr>\n",
              "      <th>max</th>\n",
              "      <td>2.759355</td>\n",
              "    </tr>\n",
              "  </tbody>\n",
              "</table>\n",
              "</div>\n",
              "    <div class=\"colab-df-buttons\">\n",
              "\n",
              "  <div class=\"colab-df-container\">\n",
              "    <button class=\"colab-df-convert\" onclick=\"convertToInteractive('df-e6380c00-4226-4470-918e-0cf15fe7710f')\"\n",
              "            title=\"Convert this dataframe to an interactive table.\"\n",
              "            style=\"display:none;\">\n",
              "\n",
              "  <svg xmlns=\"http://www.w3.org/2000/svg\" height=\"24px\" viewBox=\"0 -960 960 960\">\n",
              "    <path d=\"M120-120v-720h720v720H120Zm60-500h600v-160H180v160Zm220 220h160v-160H400v160Zm0 220h160v-160H400v160ZM180-400h160v-160H180v160Zm440 0h160v-160H620v160ZM180-180h160v-160H180v160Zm440 0h160v-160H620v160Z\"/>\n",
              "  </svg>\n",
              "    </button>\n",
              "\n",
              "  <style>\n",
              "    .colab-df-container {\n",
              "      display:flex;\n",
              "      gap: 12px;\n",
              "    }\n",
              "\n",
              "    .colab-df-convert {\n",
              "      background-color: #E8F0FE;\n",
              "      border: none;\n",
              "      border-radius: 50%;\n",
              "      cursor: pointer;\n",
              "      display: none;\n",
              "      fill: #1967D2;\n",
              "      height: 32px;\n",
              "      padding: 0 0 0 0;\n",
              "      width: 32px;\n",
              "    }\n",
              "\n",
              "    .colab-df-convert:hover {\n",
              "      background-color: #E2EBFA;\n",
              "      box-shadow: 0px 1px 2px rgba(60, 64, 67, 0.3), 0px 1px 3px 1px rgba(60, 64, 67, 0.15);\n",
              "      fill: #174EA6;\n",
              "    }\n",
              "\n",
              "    .colab-df-buttons div {\n",
              "      margin-bottom: 4px;\n",
              "    }\n",
              "\n",
              "    [theme=dark] .colab-df-convert {\n",
              "      background-color: #3B4455;\n",
              "      fill: #D2E3FC;\n",
              "    }\n",
              "\n",
              "    [theme=dark] .colab-df-convert:hover {\n",
              "      background-color: #434B5C;\n",
              "      box-shadow: 0px 1px 3px 1px rgba(0, 0, 0, 0.15);\n",
              "      filter: drop-shadow(0px 1px 2px rgba(0, 0, 0, 0.3));\n",
              "      fill: #FFFFFF;\n",
              "    }\n",
              "  </style>\n",
              "\n",
              "    <script>\n",
              "      const buttonEl =\n",
              "        document.querySelector('#df-e6380c00-4226-4470-918e-0cf15fe7710f button.colab-df-convert');\n",
              "      buttonEl.style.display =\n",
              "        google.colab.kernel.accessAllowed ? 'block' : 'none';\n",
              "\n",
              "      async function convertToInteractive(key) {\n",
              "        const element = document.querySelector('#df-e6380c00-4226-4470-918e-0cf15fe7710f');\n",
              "        const dataTable =\n",
              "          await google.colab.kernel.invokeFunction('convertToInteractive',\n",
              "                                                    [key], {});\n",
              "        if (!dataTable) return;\n",
              "\n",
              "        const docLinkHtml = 'Like what you see? Visit the ' +\n",
              "          '<a target=\"_blank\" href=https://colab.research.google.com/notebooks/data_table.ipynb>data table notebook</a>'\n",
              "          + ' to learn more about interactive tables.';\n",
              "        element.innerHTML = '';\n",
              "        dataTable['output_type'] = 'display_data';\n",
              "        await google.colab.output.renderOutput(dataTable, element);\n",
              "        const docLink = document.createElement('div');\n",
              "        docLink.innerHTML = docLinkHtml;\n",
              "        element.appendChild(docLink);\n",
              "      }\n",
              "    </script>\n",
              "  </div>\n",
              "\n",
              "\n",
              "<div id=\"df-3c11e917-239e-4c44-91ca-1a8d9f8b1714\">\n",
              "  <button class=\"colab-df-quickchart\" onclick=\"quickchart('df-3c11e917-239e-4c44-91ca-1a8d9f8b1714')\"\n",
              "            title=\"Suggest charts\"\n",
              "            style=\"display:none;\">\n",
              "\n",
              "<svg xmlns=\"http://www.w3.org/2000/svg\" height=\"24px\"viewBox=\"0 0 24 24\"\n",
              "     width=\"24px\">\n",
              "    <g>\n",
              "        <path d=\"M19 3H5c-1.1 0-2 .9-2 2v14c0 1.1.9 2 2 2h14c1.1 0 2-.9 2-2V5c0-1.1-.9-2-2-2zM9 17H7v-7h2v7zm4 0h-2V7h2v10zm4 0h-2v-4h2v4z\"/>\n",
              "    </g>\n",
              "</svg>\n",
              "  </button>\n",
              "\n",
              "<style>\n",
              "  .colab-df-quickchart {\n",
              "      --bg-color: #E8F0FE;\n",
              "      --fill-color: #1967D2;\n",
              "      --hover-bg-color: #E2EBFA;\n",
              "      --hover-fill-color: #174EA6;\n",
              "      --disabled-fill-color: #AAA;\n",
              "      --disabled-bg-color: #DDD;\n",
              "  }\n",
              "\n",
              "  [theme=dark] .colab-df-quickchart {\n",
              "      --bg-color: #3B4455;\n",
              "      --fill-color: #D2E3FC;\n",
              "      --hover-bg-color: #434B5C;\n",
              "      --hover-fill-color: #FFFFFF;\n",
              "      --disabled-bg-color: #3B4455;\n",
              "      --disabled-fill-color: #666;\n",
              "  }\n",
              "\n",
              "  .colab-df-quickchart {\n",
              "    background-color: var(--bg-color);\n",
              "    border: none;\n",
              "    border-radius: 50%;\n",
              "    cursor: pointer;\n",
              "    display: none;\n",
              "    fill: var(--fill-color);\n",
              "    height: 32px;\n",
              "    padding: 0;\n",
              "    width: 32px;\n",
              "  }\n",
              "\n",
              "  .colab-df-quickchart:hover {\n",
              "    background-color: var(--hover-bg-color);\n",
              "    box-shadow: 0 1px 2px rgba(60, 64, 67, 0.3), 0 1px 3px 1px rgba(60, 64, 67, 0.15);\n",
              "    fill: var(--button-hover-fill-color);\n",
              "  }\n",
              "\n",
              "  .colab-df-quickchart-complete:disabled,\n",
              "  .colab-df-quickchart-complete:disabled:hover {\n",
              "    background-color: var(--disabled-bg-color);\n",
              "    fill: var(--disabled-fill-color);\n",
              "    box-shadow: none;\n",
              "  }\n",
              "\n",
              "  .colab-df-spinner {\n",
              "    border: 2px solid var(--fill-color);\n",
              "    border-color: transparent;\n",
              "    border-bottom-color: var(--fill-color);\n",
              "    animation:\n",
              "      spin 1s steps(1) infinite;\n",
              "  }\n",
              "\n",
              "  @keyframes spin {\n",
              "    0% {\n",
              "      border-color: transparent;\n",
              "      border-bottom-color: var(--fill-color);\n",
              "      border-left-color: var(--fill-color);\n",
              "    }\n",
              "    20% {\n",
              "      border-color: transparent;\n",
              "      border-left-color: var(--fill-color);\n",
              "      border-top-color: var(--fill-color);\n",
              "    }\n",
              "    30% {\n",
              "      border-color: transparent;\n",
              "      border-left-color: var(--fill-color);\n",
              "      border-top-color: var(--fill-color);\n",
              "      border-right-color: var(--fill-color);\n",
              "    }\n",
              "    40% {\n",
              "      border-color: transparent;\n",
              "      border-right-color: var(--fill-color);\n",
              "      border-top-color: var(--fill-color);\n",
              "    }\n",
              "    60% {\n",
              "      border-color: transparent;\n",
              "      border-right-color: var(--fill-color);\n",
              "    }\n",
              "    80% {\n",
              "      border-color: transparent;\n",
              "      border-right-color: var(--fill-color);\n",
              "      border-bottom-color: var(--fill-color);\n",
              "    }\n",
              "    90% {\n",
              "      border-color: transparent;\n",
              "      border-bottom-color: var(--fill-color);\n",
              "    }\n",
              "  }\n",
              "</style>\n",
              "\n",
              "  <script>\n",
              "    async function quickchart(key) {\n",
              "      const quickchartButtonEl =\n",
              "        document.querySelector('#' + key + ' button');\n",
              "      quickchartButtonEl.disabled = true;  // To prevent multiple clicks.\n",
              "      quickchartButtonEl.classList.add('colab-df-spinner');\n",
              "      try {\n",
              "        const charts = await google.colab.kernel.invokeFunction(\n",
              "            'suggestCharts', [key], {});\n",
              "      } catch (error) {\n",
              "        console.error('Error during call to suggestCharts:', error);\n",
              "      }\n",
              "      quickchartButtonEl.classList.remove('colab-df-spinner');\n",
              "      quickchartButtonEl.classList.add('colab-df-quickchart-complete');\n",
              "    }\n",
              "    (() => {\n",
              "      let quickchartButtonEl =\n",
              "        document.querySelector('#df-3c11e917-239e-4c44-91ca-1a8d9f8b1714 button');\n",
              "      quickchartButtonEl.style.display =\n",
              "        google.colab.kernel.accessAllowed ? 'block' : 'none';\n",
              "    })();\n",
              "  </script>\n",
              "</div>\n",
              "    </div>\n",
              "  </div>\n"
            ],
            "application/vnd.google.colaboratory.intrinsic+json": {
              "type": "dataframe",
              "summary": "{\n  \"name\": \"# Other Info: Summary statistics include count, mean, standard deviation, minimum, 25th percentile (Q1), median (50th percentile), 75th percentile (Q3), and maximum\",\n  \"rows\": 8,\n  \"fields\": [\n    {\n      \"column\": \"Numerical_Column\",\n      \"properties\": {\n        \"dtype\": \"number\",\n        \"std\": 353.53161135765436,\n        \"min\": -3.0461430547999266,\n        \"max\": 1000.0,\n        \"num_unique_values\": 8,\n        \"samples\": [\n          -0.045256707490195384,\n          -0.058028034799627745,\n          1000.0\n        ],\n        \"semantic_type\": \"\",\n        \"description\": \"\"\n      }\n    }\n  ]\n}"
            }
          },
          "metadata": {},
          "execution_count": 20
        }
      ]
    },
    {
      "cell_type": "markdown",
      "source": [
        "# Histogram\n"
      ],
      "metadata": {
        "id": "sPEej7puqPBg"
      }
    },
    {
      "cell_type": "code",
      "source": [
        "# Histogram\n",
        "plt.figure(figsize=(4, 2))\n",
        "sns.histplot(df['Numerical_Column'], bins=20, kde=True)\n",
        "plt.title('Histogram of Numerical Column')\n",
        "plt.xlabel('Value')\n",
        "plt.ylabel('Frequency')\n",
        "plt.show()\n",
        "\n",
        "# Purpose: A histogram visualizes the frequency distribution of numerical data.\n",
        "# Usage: It is used to understand the distribution, skewness, and outliers in the numerical column.\n",
        "# When to use: Histograms are commonly used to explore the distribution of continuous numerical variables.\n",
        "# How to use: Use seaborn's histplot() function to create a histogram.\n",
        "# Other Info: The bins parameter controls the number of bins (intervals) to divide the data into. Setting kde=True adds a kernel density estimate to smooth the distribution.\n"
      ],
      "metadata": {
        "colab": {
          "base_uri": "https://localhost:8080/",
          "height": 256
        },
        "id": "X79fYEZcWcjG",
        "outputId": "f25dcecd-8b34-4456-e020-8855f29bcdfd"
      },
      "execution_count": null,
      "outputs": [
        {
          "output_type": "display_data",
          "data": {
            "text/plain": [
              "<Figure size 400x200 with 1 Axes>"
            ],
            "image/png": "[encoded data removed]"
          },
          "metadata": {}
        }
      ]
    },
    {
      "cell_type": "markdown",
      "source": [
        "\n",
        "# Density Plot"
      ],
      "metadata": {
        "id": "CHDz3ei5qY8O"
      }
    },
    {
      "cell_type": "code",
      "source": [
        "# Density Plot\n",
        "plt.figure(figsize=(4, 2))\n",
        "sns.kdeplot(df['Numerical_Column'], shade=True)\n",
        "plt.title('Density Plot of Numerical Column')\n",
        "plt.xlabel('Value')\n",
        "plt.ylabel('Density')\n",
        "plt.show()\n",
        "\n",
        "# Purpose: A density plot visualizes the probability density function of numerical data.\n",
        "# Usage: It is used to understand the distribution and shape of the numerical column, especially in continuous distributions.\n",
        "# When to use: Density plots are useful for exploring the smoothness and shape of distributions.\n",
        "# How to use: Use seaborn's kdeplot() function to create a density plot.\n",
        "# Other Info: Setting shade=True fills the area under the curve for better visualization.\n"
      ],
      "metadata": {
        "colab": {
          "base_uri": "https://localhost:8080/",
          "height": 360
        },
        "id": "wjMTEiqmWnbu",
        "outputId": "637824f8-2cc3-47eb-b9ea-05f0d0e317b8"
      },
      "execution_count": null,
      "outputs": [
        {
          "output_type": "stream",
          "name": "stderr",
          "text": [
            "<ipython-input-22-9ed1e54d42cd>:3: FutureWarning: \n",
            "\n",
            "`shade` is now deprecated in favor of `fill`; setting `fill=True`.\n",
            "This will become an error in seaborn v0.14.0; please update your code.\n",
            "\n",
            "  sns.kdeplot(df['Numerical_Column'], shade=True)\n"
          ]
        },
        {
          "output_type": "display_data",
          "data": {
            "text/plain": [
              "<Figure size 400x200 with 1 Axes>"
            ],
            "image/png": "[encoded data removed]"
          },
          "metadata": {}
        }
      ]
    },
    {
      "cell_type": "markdown",
      "source": [
        "# Box Plot\n"
      ],
      "metadata": {
        "id": "y_OcbYPPqmdg"
      }
    },
    {
      "cell_type": "code",
      "source": [
        "# Box Plot\n",
        "plt.figure(figsize=(4, 2))\n",
        "sns.boxplot(y=df['Numerical_Column'])\n",
        "plt.title('Box Plot of Numerical Column')\n",
        "plt.ylabel('Value')\n",
        "plt.show()\n",
        "\n",
        "# Purpose: A box plot summarizes the distribution of numerical data and identifies outliers.\n",
        "# Usage: It is used to visualize the central tendency, dispersion, and skewness of the numerical column.\n",
        "# When to use: Box plots are useful for comparing distributions between different groups or detecting outliers.\n",
        "# How to use: Use seaborn's boxplot() function to create a box plot.\n",
        "# Other Info: The box plot displays the median (line inside the box), quartiles (box edges), and potential outliers (individual points beyond whiskers).\n"
      ],
      "metadata": {
        "colab": {
          "base_uri": "https://localhost:8080/",
          "height": 218
        },
        "id": "A6V9-KpoW79G",
        "outputId": "c278eaea-6025-4390-80d4-dd2fee2ae8aa"
      },
      "execution_count": null,
      "outputs": [
        {
          "output_type": "display_data",
          "data": {
            "text/plain": [
              "<Figure size 400x200 with 1 Axes>"
            ],
            "image/png": "[encoded data removed]"
          },
          "metadata": {}
        }
      ]
    },
    {
      "cell_type": "markdown",
      "source": [
        "# kernel density estimation (KDE)"
      ],
      "metadata": {
        "id": "X-HCSh21qrlo"
      }
    },
    {
      "cell_type": "code",
      "source": [
        "# Step 6: Plot a kernel density estimation (KDE) plot of the numerical column.\n",
        "\n",
        "# \"\"\"\n",
        "# Explanation:\n",
        "# - This code generates a Cumulative Distribution Function (CDF) plot for the numerical column.\n",
        "# - CDF plots show the cumulative probability distribution of the data, helping to understand how the data is spread out across its range.\n",
        "# - This plot can be used in data analysis and statistics to visualize the distribution of numerical data.\n",
        "# - CDF plots are useful when you want to understand the cumulative distribution of data and analyze the probability of observing values up to a certain point.\n",
        "# - The sns.kdeplot() function from the Seaborn library is used to create a KDE plot, and the cumulative=True parameter is set to generate the CDF.\n",
        "# - Other parameters such as plot title, axis labels, and figure size are also specified.\n",
        "# - KDE plots provide a smoothed estimate of the probability density function, and setting cumulative=True transforms it into a CDF plot.\n",
        "#   This plot helps in visualizing the entire distribution of the data and understanding its cumulative behavior.\n",
        "# \"\"\"\n",
        "\n",
        "plt.figure(figsize=(4, 2))  # Create a new figure with specified size\n",
        "sns.kdeplot(df['Numerical_Column'], cumulative=True)  # Plot the KDE plot with cumulative distribution\n",
        "plt.title('Cumulative Distribution Function (CDF) of Numerical Column')  # Set plot title\n",
        "plt.xlabel('Value')  # Set x-axis label\n",
        "plt.ylabel('Cumulative Probability')  # Set y-axis label\n",
        "plt.show()  # Display the plot\n"
      ],
      "metadata": {
        "colab": {
          "base_uri": "https://localhost:8080/",
          "height": 256
        },
        "id": "Tk8Ts8orXtb8",
        "outputId": "ca8c4e22-2de9-4e0a-c2a1-793bb260fbec"
      },
      "execution_count": null,
      "outputs": [
        {
          "output_type": "display_data",
          "data": {
            "text/plain": [
              "<Figure size 400x200 with 1 Axes>"
            ],
            "image/png": "[encoded data removed]"
          },
          "metadata": {}
        }
      ]
    },
    {
      "cell_type": "markdown",
      "source": [
        "# violin plot"
      ],
      "metadata": {
        "id": "IWx_Vt5KqwG2"
      }
    },
    {
      "cell_type": "code",
      "source": [
        "# Step 7: Plot a violin plot of the numerical column.\n",
        "\n",
        "# \"\"\"\n",
        "# Explanation:\n",
        "# - This code generates a Violin Plot for the numerical column.\n",
        "# - Violin plots combine the benefits of box plots and kernel density estimation (KDE) plots.\n",
        "# - They show the distribution of numerical data along with summary statistics.\n",
        "# - Violin plots are useful for comparing the distribution of data between multiple groups.\n",
        "# - They provide insights into data spread, central tendency, and presence of multiple modes.\n",
        "# \"\"\"\n",
        "\n",
        "plt.figure(figsize=(4, 2))  # Create a new figure with specified size\n",
        "sns.violinplot(y=df['Numerical_Column'], inner='quartile')  # Plot the violin plot\n",
        "plt.title('Violin Plot of Numerical Column')  # Set plot title\n",
        "plt.ylabel('Value')  # Set y-axis label\n",
        "plt.show()  # Display the plot\n"
      ],
      "metadata": {
        "colab": {
          "base_uri": "https://localhost:8080/",
          "height": 218
        },
        "id": "nvLgjqaTZslN",
        "outputId": "3809b4c1-c511-4cf5-d2e7-6b64c80df613"
      },
      "execution_count": null,
      "outputs": [
        {
          "output_type": "display_data",
          "data": {
            "text/plain": [
              "<Figure size 400x200 with 1 Axes>"
            ],
            "image/png": "[encoded data removed]"
          },
          "metadata": {}
        }
      ]
    },
    {
      "cell_type": "markdown",
      "source": [
        "# empirical cumulative distribution function (ECDF)"
      ],
      "metadata": {
        "id": "ASOx7pLiq1xq"
      }
    },
    {
      "cell_type": "code",
      "source": [
        "# Step 8: Plot an empirical cumulative distribution function (ECDF) of the numerical column.\n",
        "\n",
        "# \"\"\"\n",
        "# Explanation:\n",
        "# - This code generates an Empirical Cumulative Distribution Function (ECDF) plot for the numerical column.\n",
        "# - ECDF plots show the cumulative distribution of data points.\n",
        "# - They help visualize how data is spread across percentiles and provide insights into the distribution's shape.\n",
        "# - ECDF plots are useful for comparing distributions between different groups or datasets.\n",
        "# \"\"\"\n",
        "\n",
        "plt.figure(figsize=(4, 2))  # Create a new figure with specified size\n",
        "sns.ecdfplot(df['Numerical_Column'])  # Plot the ECDF\n",
        "plt.title('Empirical Cumulative Distribution Function (ECDF) of Numerical Column')  # Set plot title\n",
        "plt.xlabel('Value')  # Set x-axis label\n",
        "plt.ylabel('Cumulative Probability')  # Set y-axis label\n",
        "plt.show()  # Display the plot\n"
      ],
      "metadata": {
        "colab": {
          "base_uri": "https://localhost:8080/",
          "height": 256
        },
        "id": "LOJgivLjaGJl",
        "outputId": "55d38537-26af-4761-ecf5-35e378f91d71"
      },
      "execution_count": null,
      "outputs": [
        {
          "output_type": "display_data",
          "data": {
            "text/plain": [
              "<Figure size 400x200 with 1 Axes>"
            ],
            "image/png": "[encoded data removed]"
          },
          "metadata": {}
        }
      ]
    },
    {
      "cell_type": "markdown",
      "source": [
        "# Q-Q plot"
      ],
      "metadata": {
        "id": "Y75GLGwDq5d-"
      }
    },
    {
      "cell_type": "code",
      "source": [
        "# Step 9: Plot a Q-Q plot (Quantile-Quantile Plot) of the numerical column.\n",
        "\n",
        "# \"\"\"\n",
        "# Explanation:\n",
        "# - This code generates a Q-Q Plot (Quantile-Quantile Plot) for the numerical column.\n",
        "# - Q-Q plots compare the distribution of data against a theoretical distribution (e.g., normal distribution).\n",
        "# - They help assess if the data follows a specific distribution and identify deviations.\n",
        "# - Q-Q plots are useful for checking assumptions in statistical analyses and identifying outliers.\n",
        "# \"\"\"\n",
        "\n",
        "plt.figure(figsize=(4, 2))  # Create a new figure with specified size\n",
        "stats.probplot(df['Numerical_Column'], dist=\"norm\", plot=plt)  # Plot the Q-Q plot\n",
        "plt.title('Q-Q Plot of Numerical Column')  # Set plot title\n",
        "plt.xlabel('Theoretical Quantiles')  # Set x-axis label\n",
        "plt.ylabel('Sample Quantiles')  # Set y-axis label\n",
        "plt.show()  # Display the plot\n"
      ],
      "metadata": {
        "colab": {
          "base_uri": "https://localhost:8080/",
          "height": 256
        },
        "id": "nwaQBOp7aPdT",
        "outputId": "56cd7388-5da5-43aa-dc68-30a05ecf502c"
      },
      "execution_count": null,
      "outputs": [
        {
          "output_type": "display_data",
          "data": {
            "text/plain": [
              "<Figure size 400x200 with 1 Axes>"
            ],
            "image/png": "[encoded data removed]"
          },
          "metadata": {}
        }
      ]
    },
    {
      "cell_type": "markdown",
      "source": [
        "# run sequence plot"
      ],
      "metadata": {
        "id": "fJ4Che4vq97Q"
      }
    },
    {
      "cell_type": "code",
      "source": [
        "# Step 11: Plot a run sequence plot of the numerical column.\n",
        "\n",
        "# \"\"\"\n",
        "# Explanation:\n",
        "# - This code generates a Run Sequence Plot for the numerical column.\n",
        "# - Run sequence plots visualize the values of numerical data against observation order.\n",
        "# - They help identify trends, patterns, or anomalies in sequential data.\n",
        "# - Run sequence plots are useful for time-series analysis and monitoring data over time.\n",
        "# \"\"\"\n",
        "\n",
        "plt.figure(figsize=(4, 2))  # Create a new figure with specified size\n",
        "plt.plot(df['Numerical_Column'])  # Plot the run sequence plot\n",
        "plt.title('Run Sequence Plot of Numerical Column')  # Set plot title\n",
        "plt.xlabel('Observation Order')  # Set x-axis label\n",
        "plt.ylabel('Value')  # Set y-axis label\n",
        "plt.show()  # Display the plot\n"
      ],
      "metadata": {
        "colab": {
          "base_uri": "https://localhost:8080/",
          "height": 256
        },
        "id": "IwldMU4WabdU",
        "outputId": "b61414a6-1972-4b46-9cc2-5bc8ac1f76e1"
      },
      "execution_count": null,
      "outputs": [
        {
          "output_type": "display_data",
          "data": {
            "text/plain": [
              "<Figure size 400x200 with 1 Axes>"
            ],
            "image/png": "[encoded data removed]"
          },
          "metadata": {}
        }
      ]
    },
    {
      "cell_type": "markdown",
      "source": [
        "# Shapiro-Wilk Test\n"
      ],
      "metadata": {
        "id": "6UFaT5tvrekc"
      }
    },
    {
      "cell_type": "code",
      "source": [
        "import scipy.stats as stats\n",
        "\n",
        "# Shapiro-Wilk Test\n",
        "\"\"\"\n",
        "Explanation:\n",
        "- The Shapiro-Wilk test is used to determine whether a data sample comes from a normal distribution.\n",
        "- It assesses the null hypothesis that the data are normally distributed.\n",
        "- Shapiro-Wilk test is more appropriate for smaller sample sizes compared to other normality tests.\n",
        "- It is widely used in various fields such as biology, finance, and social sciences.\n",
        "- Shapiro-Wilk test is suitable for univariate analysis when you need to check the normality assumption before applying parametric tests.\n",
        "- If the p-value is less than a chosen significance level (e.g., 0.05), we reject the null hypothesis and conclude that the data are not normally distributed.\n",
        "\"\"\"\n",
        "\n",
        "# Generate example data\n",
        "data = np.random.normal(loc=0, scale=1, size=100)\n",
        "\n",
        "# Perform Shapiro-Wilk test\n",
        "statistic, p_value = stats.shapiro(data)\n",
        "print(\"Shapiro-Wilk Test:\")\n",
        "print(\"Statistic:\", statistic)\n",
        "print(\"p-value:\", p_value)\n",
        "\n",
        "# Interpret the result\n",
        "alpha = 0.05\n",
        "if p_value > alpha:\n",
        "    print(\"p-value > alpha: Fail to reject null hypothesis - Data looks normally distributed\")\n",
        "else:\n",
        "    print(\"p-value <= alpha: Reject null hypothesis - Data does not look normally distributed\")\n"
      ],
      "metadata": {
        "colab": {
          "base_uri": "https://localhost:8080/"
        },
        "id": "3NYaE4-FahVA",
        "outputId": "4cbdb05e-f79c-4c86-d310-45d6f4895a0b"
      },
      "execution_count": null,
      "outputs": [
        {
          "output_type": "stream",
          "name": "stdout",
          "text": [
            "Shapiro-Wilk Test:\n",
            "Statistic: 0.9873254895210266\n",
            "p-value: 0.4598793387413025\n",
            "p-value > alpha: Fail to reject null hypothesis - Data looks normally distributed\n"
          ]
        }
      ]
    },
    {
      "cell_type": "markdown",
      "source": [
        "# Kolmogorov-Smirnov Test\n"
      ],
      "metadata": {
        "id": "vMp42qkzriAQ"
      }
    },
    {
      "cell_type": "code",
      "source": [
        "# Kolmogorov-Smirnov Test\n",
        "\"\"\"\n",
        "Explanation:\n",
        "- The Kolmogorov-Smirnov test is used to determine whether a data sample comes from a specific distribution (e.g., normal distribution).\n",
        "- It compares the cumulative distribution function (CDF) of the data sample with the theoretical distribution.\n",
        "- Kolmogorov-Smirnov test is non-parametric and does not assume any specific distribution.\n",
        "- It is applicable when the distribution of the data is unknown or cannot be assumed to be normal.\n",
        "- This test is used in various fields including finance, engineering, and environmental sciences.\n",
        "- If the p-value is less than a chosen significance level (e.g., 0.05), we reject the null hypothesis and conclude that the data do not follow the specified distribution.\n",
        "\"\"\"\n",
        "\n",
        "# Generate example data\n",
        "data = np.random.normal(loc=0, scale=1, size=100)\n",
        "\n",
        "# Perform Kolmogorov-Smirnov test\n",
        "statistic, p_value = stats.kstest(data, 'norm')\n",
        "print(\"\\nKolmogorov-Smirnov Test:\")\n",
        "print(\"Statistic:\", statistic)\n",
        "print(\"p-value:\", p_value)\n",
        "\n",
        "# Interpret the result\n",
        "alpha = 0.05\n",
        "if p_value > alpha:\n",
        "    print(\"p-value > alpha: Fail to reject null hypothesis - Data follows a normal distribution\")\n",
        "else:\n",
        "    print(\"p-value <= alpha: Reject null hypothesis - Data does not follow a normal distribution\")\n"
      ],
      "metadata": {
        "colab": {
          "base_uri": "https://localhost:8080/"
        },
        "id": "s7HU54GrloNi",
        "outputId": "161d072f-1d70-4efc-e526-263fa3d3fa4e"
      },
      "execution_count": null,
      "outputs": [
        {
          "output_type": "stream",
          "name": "stdout",
          "text": [
            "\n",
            "Kolmogorov-Smirnov Test:\n",
            "Statistic: 0.11272739358281136\n",
            "p-value: 0.1457875418776991\n",
            "p-value > alpha: Fail to reject null hypothesis - Data follows a normal distribution\n"
          ]
        }
      ]
    },
    {
      "cell_type": "markdown",
      "source": [
        "# Anderson-Darling Test\n"
      ],
      "metadata": {
        "id": "Tvj9myFDrkCu"
      }
    },
    {
      "cell_type": "code",
      "source": [
        "# Anderson-Darling Test\n",
        "\"\"\"\n",
        "Explanation:\n",
        "- The Anderson-Darling test is used to assess whether a data sample comes from a particular distribution (e.g., normal distribution).\n",
        "- It evaluates the null hypothesis that the data follow a specified distribution.\n",
        "- Anderson-Darling test is more powerful compared to other normality tests for small to moderate sample sizes.\n",
        "- It provides a list of critical values and corresponding significance levels to assess the goodness-of-fit.\n",
        "- This test is commonly used in quality control, reliability engineering, and finance.\n",
        "- If the test statistic exceeds the critical value at a chosen significance level, we reject the null hypothesis and conclude that the data do not come from the specified distribution.\n",
        "\"\"\"\n",
        "\n",
        "# Generate example data\n",
        "data = np.random.normal(loc=0, scale=1, size=100)\n",
        "\n",
        "# Perform Anderson-Darling test\n",
        "result = stats.anderson(data, dist='norm')\n",
        "print(\"\\nAnderson-Darling Test:\")\n",
        "print(\"Statistic:\", result.statistic)\n",
        "print(\"Critical Values:\", result.critical_values)\n",
        "print(\"Significance Levels:\", result.significance_level)\n",
        "\n",
        "# Interpret the result\n",
        "alpha = 0.05\n",
        "if result.statistic < result.critical_values[2]:\n",
        "    print(\"Statistic < Critical Value (5%): Fail to reject null hypothesis - Data follows a normal distribution\")\n",
        "else:\n",
        "    print(\"Statistic >= Critical Value (5%): Reject null hypothesis - Data does not follow a normal distribution\")\n"
      ],
      "metadata": {
        "colab": {
          "base_uri": "https://localhost:8080/"
        },
        "id": "83T2rJFxl_Lw",
        "outputId": "4598a32a-457d-4ef8-c102-46d7c62afc75"
      },
      "execution_count": null,
      "outputs": [
        {
          "output_type": "stream",
          "name": "stdout",
          "text": [
            "\n",
            "Anderson-Darling Test:\n",
            "Statistic: 0.15437232474586438\n",
            "Critical Values: [0.555 0.632 0.759 0.885 1.053]\n",
            "Significance Levels: [15.  10.   5.   2.5  1. ]\n",
            "Statistic < Critical Value (5%): Fail to reject null hypothesis - Data follows a normal distribution\n"
          ]
        }
      ]
    },
    {
      "cell_type": "markdown",
      "source": [
        "# t-test: Compares means between two groups.\n"
      ],
      "metadata": {
        "id": "QJNu8ghfroh_"
      }
    },
    {
      "cell_type": "code",
      "source": [
        "import scipy.stats as stats\n",
        "\n",
        "# t-test: Compares means between two groups.\n",
        "# \"\"\"\n",
        "# Explanation:\n",
        "# - The t-test is used to compare means between two groups.\n",
        "# - It assesses whether the means of two independent samples are significantly different from each other.\n",
        "# - The test assumes that the data are normally distributed and have equal variances (for the independent t-test).\n",
        "# - t-test is commonly used in hypothesis testing to determine if there is a significant difference between two populations or treatment groups.\n",
        "# - It is widely applied in various fields including medicine, psychology, and economics.\n",
        "# - If the p-value is less than a chosen significance level (e.g., 0.05), we reject the null hypothesis and conclude that there is\n",
        "#  a significant difference between the means of the two groups.\n",
        "# \"\"\"\n",
        "\n",
        "# Generate example data for two independent groups\n",
        "group1 = np.random.normal(loc=10, scale=2, size=30)\n",
        "group2 = np.random.normal(loc=12, scale=2, size=30)\n",
        "\n",
        "# Perform independent t-test\n",
        "statistic, p_value = stats.ttest_ind(group1, group2)\n",
        "print(\"Independent t-test:\")\n",
        "print(\"Statistic:\", statistic)\n",
        "print(\"p-value:\", p_value)\n",
        "\n",
        "# Interpret the result\n",
        "alpha = 0.05\n",
        "if p_value > alpha:\n",
        "    print(\"p-value > alpha: Fail to reject null hypothesis - No significant difference between the means\")\n",
        "else:\n",
        "    print(\"p-value <= alpha: Reject null hypothesis - Significant difference between the means\")\n"
      ],
      "metadata": {
        "colab": {
          "base_uri": "https://localhost:8080/"
        },
        "id": "bJeJQe9wmjvy",
        "outputId": "03e09d80-4534-4cc1-b77c-31670acb7a5d"
      },
      "execution_count": null,
      "outputs": [
        {
          "output_type": "stream",
          "name": "stdout",
          "text": [
            "Independent t-test:\n",
            "Statistic: -3.275517288848807\n",
            "p-value: 0.0017825750024948813\n",
            "p-value <= alpha: Reject null hypothesis - Significant difference between the means\n"
          ]
        }
      ]
    },
    {
      "cell_type": "markdown",
      "source": [
        "# One-way ANOVA: Compares means between more than two groups.\n"
      ],
      "metadata": {
        "id": "g-ZajRCUrqxG"
      }
    },
    {
      "cell_type": "code",
      "source": [
        "# One-way ANOVA: Compares means between more than two groups.\n",
        "\"\"\"\n",
        "Explanation:\n",
        "- One-way ANOVA (Analysis of Variance) is used to compare means between three or more groups.\n",
        "- It assesses whether there are any statistically significant differences in the means of the groups.\n",
        "- ANOVA assumes that the data are normally distributed and have equal variances.\n",
        "- One-way ANOVA is applied when comparing means across multiple treatment groups or levels of a categorical variable.\n",
        "- It is commonly used in experimental studies, clinical trials, and social sciences.\n",
        "- If the p-value is less than a chosen significance level (e.g., 0.05), we reject the null hypothesis and conclude that there are significant differences in at least one pair of means.\n",
        "\"\"\"\n",
        "\n",
        "# Generate example data for multiple groups\n",
        "group1 = np.random.normal(loc=10, scale=2, size=30)\n",
        "group2 = np.random.normal(loc=12, scale=2, size=30)\n",
        "group3 = np.random.normal(loc=15, scale=2, size=30)\n",
        "\n",
        "# Perform one-way ANOVA\n",
        "statistic, p_value = stats.f_oneway(group1, group2, group3)\n",
        "print(\"\\nOne-way ANOVA:\")\n",
        "print(\"Statistic:\", statistic)\n",
        "print(\"p-value:\", p_value)\n",
        "\n",
        "# Interpret the result\n",
        "alpha = 0.05\n",
        "if p_value > alpha:\n",
        "    print(\"p-value > alpha: Fail to reject null hypothesis - No significant difference among group means\")\n",
        "else:\n",
        "    print(\"p-value <= alpha: Reject null hypothesis - Significant difference among group means\")\n"
      ],
      "metadata": {
        "colab": {
          "base_uri": "https://localhost:8080/"
        },
        "id": "4As7KMuJmnts",
        "outputId": "e83c4648-3150-4b02-dc93-30f52c99a7f4"
      },
      "execution_count": null,
      "outputs": [
        {
          "output_type": "stream",
          "name": "stdout",
          "text": [
            "\n",
            "One-way ANOVA:\n",
            "Statistic: 63.26273652563034\n",
            "p-value: 1.09150532025253e-17\n",
            "p-value <= alpha: Reject null hypothesis - Significant difference among group means\n"
          ]
        }
      ]
    },
    {
      "cell_type": "markdown",
      "source": [
        "# Paired t-test: Compares means of paired samples.\n"
      ],
      "metadata": {
        "id": "ELND3UcBruq_"
      }
    },
    {
      "cell_type": "code",
      "source": [
        "# Paired t-test: Compares means of paired samples.\n",
        "\"\"\"\n",
        "Explanation:\n",
        "- The paired t-test is used to compare means between two related samples or groups.\n",
        "- It assesses whether the means of the paired observations are significantly different from each other.\n",
        "- Paired t-test assumes that the differences between pairs of observations are normally distributed.\n",
        "- This test is applicable when the same subjects are measured before and after an intervention or treatment.\n",
        "- It is commonly used in clinical trials, experimental studies, and before-after studies.\n",
        "- If the p-value is less than a chosen significance level (e.g., 0.05), we reject the null hypothesis and conclude that\n",
        " there is a significant difference between the means of paired samples.\n",
        "\"\"\"\n",
        "\n",
        "# Generate example paired data\n",
        "before = np.random.normal(loc=10, scale=2, size=30)\n",
        "after = before + np.random.normal(loc=2, scale=1, size=30)\n",
        "\n",
        "# Perform paired t-test\n",
        "statistic, p_value = stats.ttest_rel(before, after)\n",
        "print(\"\\nPaired t-test:\")\n",
        "print(\"Statistic:\", statistic)\n",
        "print(\"p-value:\", p_value)\n",
        "\n",
        "# Interpret the result\n",
        "alpha = 0.05\n",
        "if p_value > alpha:\n",
        "    print(\"p-value > alpha: Fail to reject null hypothesis - No significant difference between paired means\")\n",
        "else:\n",
        "    print(\"p-value <= alpha: Reject null hypothesis - Significant difference between paired means\")\n"
      ],
      "metadata": {
        "colab": {
          "base_uri": "https://localhost:8080/"
        },
        "id": "ebg6dk18nMvv",
        "outputId": "c8f05d27-dc0d-4197-c4c8-b6d941dae101"
      },
      "execution_count": null,
      "outputs": [
        {
          "output_type": "stream",
          "name": "stdout",
          "text": [
            "\n",
            "Paired t-test:\n",
            "Statistic: -10.289367685476288\n",
            "p-value: 3.4415528767278525e-11\n",
            "p-value <= alpha: Reject null hypothesis - Significant difference between paired means\n"
          ]
        }
      ]
    },
    {
      "cell_type": "markdown",
      "source": [
        "# Mann-Whitney U Test: Non-parametric alternative to the t-test.\n"
      ],
      "metadata": {
        "id": "7c-xydBnryBW"
      }
    },
    {
      "cell_type": "code",
      "source": [
        "import scipy.stats as stats\n",
        "\n",
        "# Mann-Whitney U Test: Non-parametric alternative to the t-test.\n",
        "\"\"\"\n",
        "Explanation:\n",
        "- The Mann-Whitney U test is used to compare medians between two independent groups.\n",
        "- It assesses whether the distributions of two independent samples are different from each other.\n",
        "- Mann-Whitney U test does not assume that the data are normally distributed.\n",
        "- It is applicable when the assumptions of the t-test are violated or when the data are ordinal or skewed.\n",
        "- This test is commonly used in medical research, social sciences, and environmental studies.\n",
        "- If the p-value is less than a chosen significance level (e.g., 0.05), we reject the null hypothesis and conclude that\n",
        " there is a significant difference between the medians of the two groups.\n",
        "\"\"\"\n",
        "\n",
        "# Generate example data for two independent groups\n",
        "group1 = np.random.normal(loc=10, scale=2, size=30)\n",
        "group2 = np.random.normal(loc=12, scale=2, size=30)\n",
        "\n",
        "# Perform Mann-Whitney U test\n",
        "statistic, p_value = stats.mannwhitneyu(group1, group2)\n",
        "print(\"Mann-Whitney U Test:\")\n",
        "print(\"Statistic:\", statistic)\n",
        "print(\"p-value:\", p_value)\n",
        "\n",
        "# Interpret the result\n",
        "alpha = 0.05\n",
        "if p_value > alpha:\n",
        "    print(\"p-value > alpha: Fail to reject null hypothesis - No significant difference between group medians\")\n",
        "else:\n",
        "    print(\"p-value <= alpha: Reject null hypothesis - Significant difference between group medians\")\n"
      ],
      "metadata": {
        "colab": {
          "base_uri": "https://localhost:8080/"
        },
        "id": "dbie08OsoX1L",
        "outputId": "24e6c98a-e64e-475e-9fc5-c01aa58b6250"
      },
      "execution_count": null,
      "outputs": [
        {
          "output_type": "stream",
          "name": "stdout",
          "text": [
            "Mann-Whitney U Test:\n",
            "Statistic: 122.0\n",
            "p-value: 1.2860392091779297e-06\n",
            "p-value <= alpha: Reject null hypothesis - Significant difference between group medians\n"
          ]
        }
      ]
    },
    {
      "cell_type": "markdown",
      "source": [
        "# Kruskal-Wallis H Test: Non-parametric alternative to ANOVA.\n"
      ],
      "metadata": {
        "id": "ShY0hcoVr2Jk"
      }
    },
    {
      "cell_type": "code",
      "source": [
        "# Kruskal-Wallis H Test: Non-parametric alternative to ANOVA.\n",
        "\"\"\"\n",
        "Explanation:\n",
        "- The Kruskal-Wallis H test is used to compare medians between three or more independent groups.\n",
        "- It assesses whether the distributions of multiple independent samples are different from each other.\n",
        "- Kruskal-Wallis H test does not assume that the data are normally distributed.\n",
        "- It is applicable when the assumptions of ANOVA are violated or when the data are ordinal or skewed.\n",
        "- This test is commonly used in clinical trials, experimental studies, and social sciences.\n",
        "- If the p-value is less than a chosen significance level (e.g., 0.05), we reject the null hypothesis and conclude that there are significant differences in at least one pair of group medians.\n",
        "\"\"\"\n",
        "\n",
        "# Generate example data for multiple groups\n",
        "group1 = np.random.normal(loc=10, scale=2, size=30)\n",
        "group2 = np.random.normal(loc=12, scale=2, size=30)\n",
        "group3 = np.random.normal(loc=15, scale=2, size=30)\n",
        "\n",
        "# Perform Kruskal-Wallis H test\n",
        "statistic, p_value = stats.kruskal(group1, group2, group3)\n",
        "print(\"\\nKruskal-Wallis H Test:\")\n",
        "print(\"Statistic:\", statistic)\n",
        "print(\"p-value:\", p_value)\n",
        "\n",
        "# Interpret the result\n",
        "alpha = 0.05\n",
        "if p_value > alpha:\n",
        "    print(\"p-value > alpha: Fail to reject null hypothesis - No significant difference among group medians\")\n",
        "else:\n",
        "    print(\"p-value <= alpha: Reject null hypothesis - Significant difference among group medians\")\n"
      ],
      "metadata": {
        "colab": {
          "base_uri": "https://localhost:8080/"
        },
        "id": "kCRBs0hEoYdQ",
        "outputId": "1673f6c8-23ee-4219-b116-e3c33d27398a"
      },
      "execution_count": null,
      "outputs": [
        {
          "output_type": "stream",
          "name": "stdout",
          "text": [
            "\n",
            "Kruskal-Wallis H Test:\n",
            "Statistic: 47.65606837606839\n",
            "p-value: 4.483490331299382e-11\n",
            "p-value <= alpha: Reject null hypothesis - Significant difference among group medians\n"
          ]
        }
      ]
    },
    {
      "cell_type": "markdown",
      "source": [
        "# Wilcoxon Signed-Rank Test: Non-parametric alternative to paired t-test.\n"
      ],
      "metadata": {
        "id": "DcsJra1jr4o1"
      }
    },
    {
      "cell_type": "code",
      "source": [
        "# Wilcoxon Signed-Rank Test: Non-parametric alternative to paired t-test.\n",
        "\"\"\"\n",
        "Explanation:\n",
        "- The Wilcoxon Signed-Rank test is used to compare medians between two related samples or groups.\n",
        "- It assesses whether the distributions of paired observations are different from each other.\n",
        "- Wilcoxon Signed-Rank test does not assume that the data are normally distributed.\n",
        "- It is applicable when the assumptions of the paired t-test are violated or when the data are ordinal or skewed.\n",
        "- This test is commonly used in before-after studies, clinical trials, and experimental research.\n",
        "- If the p-value is less than a chosen significance level (e.g., 0.05), we reject the null hypothesis and conclude that there is a significant difference between the medians of paired samples.\n",
        "\"\"\"\n",
        "\n",
        "# Generate example paired data\n",
        "before = np.random.normal(loc=10, scale=2, size=30)\n",
        "after = before + np.random.normal(loc=2, scale=1, size=30)\n",
        "\n",
        "# Perform Wilcoxon Signed-Rank test\n",
        "statistic, p_value = stats.wilcoxon(before, after)\n",
        "print(\"\\nWilcoxon Signed-Rank Test:\")\n",
        "print(\"Statistic:\", statistic)\n",
        "print(\"p-value:\", p_value)\n",
        "\n",
        "# Interpret the result\n",
        "alpha = 0.05\n",
        "if p_value > alpha:\n",
        "    print(\"p-value > alpha: Fail to reject null hypothesis - No significant difference between paired medians\")\n",
        "else:\n",
        "    print(\"p-value <= alpha: Reject null hypothesis - Significant difference between paired medians\")\n"
      ],
      "metadata": {
        "colab": {
          "base_uri": "https://localhost:8080/"
        },
        "id": "Mu0nPEIApM0y",
        "outputId": "f8567e2b-0e9b-4728-aa69-2653938652d2"
      },
      "execution_count": null,
      "outputs": [
        {
          "output_type": "stream",
          "name": "stdout",
          "text": [
            "\n",
            "Wilcoxon Signed-Rank Test:\n",
            "Statistic: 6.0\n",
            "p-value: 2.60770320892334e-08\n",
            "p-value <= alpha: Reject null hypothesis - Significant difference between paired medians\n"
          ]
        }
      ]
    },
    {
      "cell_type": "markdown",
      "source": [
        "# Pearson correlation coefficient: Measures linear correlation between two variables.\n"
      ],
      "metadata": {
        "id": "EHiG5RCLr7qM"
      }
    },
    {
      "cell_type": "code",
      "source": [
        "import scipy.stats as stats\n",
        "\n",
        "# Pearson correlation coefficient: Measures linear correlation between two variables.\n",
        "\"\"\"\n",
        "Explanation:\n",
        "- The Pearson correlation coefficient is used to measure the strength and direction of a linear relationship between two continuous variables.\n",
        "- It assesses how well the data points fit a straight line.\n",
        "- Pearson correlation coefficient ranges from -1 to 1, where -1 indicates a perfect negative linear relationship, 0 indicates no linear relationship,\n",
        "  and 1 indicates a perfect positive linear relationship.\n",
        "- Pearson correlation assumes that the data are normally distributed and have a linear relationship.\n",
        "- It is widely used in various fields such as finance, economics, and social sciences.\n",
        "- Pearson correlation is appropriate for continuous data and when the relationship between variables is linear.\n",
        "\"\"\"\n",
        "\n",
        "# Generate example data for two variables\n",
        "x = np.random.normal(loc=0, scale=1, size=100)\n",
        "y = 2 * x + np.random.normal(loc=0, scale=1, size=100)\n",
        "\n",
        "# Perform Pearson correlation coefficient\n",
        "correlation_coefficient, p_value = stats.pearsonr(x, y)\n",
        "print(\"Pearson correlation coefficient:\")\n",
        "print(\"Coefficient:\", correlation_coefficient)\n",
        "print(\"p-value:\", p_value)\n",
        "\n",
        "# Interpret the result\n",
        "alpha = 0.05\n",
        "if p_value > alpha:\n",
        "    print(\"p-value > alpha: Fail to reject null hypothesis - No significant linear correlation\")\n",
        "else:\n",
        "    print(\"p-value <= alpha: Reject null hypothesis - Significant linear correlation\")\n"
      ],
      "metadata": {
        "colab": {
          "base_uri": "https://localhost:8080/"
        },
        "id": "H1Q1C0Szpr_e",
        "outputId": "fe27091e-e3e4-4781-e21c-06424cb2aab2"
      },
      "execution_count": null,
      "outputs": [
        {
          "output_type": "stream",
          "name": "stdout",
          "text": [
            "Pearson correlation coefficient:\n",
            "Coefficient: 0.9000849586179472\n",
            "p-value: 3.905839897823298e-37\n",
            "p-value <= alpha: Reject null hypothesis - Significant linear correlation\n"
          ]
        }
      ]
    },
    {
      "cell_type": "markdown",
      "source": [
        "# Spearman correlation coefficient: Measures monotonic correlation between two variables.\n"
      ],
      "metadata": {
        "id": "uu8_xAL1r-s8"
      }
    },
    {
      "cell_type": "code",
      "source": [
        "# Spearman correlation coefficient: Measures monotonic correlation between two variables.\n",
        "\"\"\"\n",
        "Explanation:\n",
        "- The Spearman correlation coefficient is used to measure the strength and direction of a monotonic relationship between two variables.\n",
        "- It assesses whether the data points tend to increase or decrease together, but not necessarily at a constant rate.\n",
        "- Spearman correlation coefficient ranges from -1 to 1, where -1 indicates a perfect negative monotonic relationship, 0 indicates no monotonic relationship, and 1 indicates a perfect positive monotonic relationship.\n",
        "- Spearman correlation does not assume that the data are normally distributed and is robust to outliers.\n",
        "- It is suitable for ordinal or ranked data and when the relationship between variables is non-linear or non-parametric.\n",
        "\"\"\"\n",
        "\n",
        "# Generate example data for two variables\n",
        "x = np.random.randint(1, 100, size=100)\n",
        "y = np.random.randint(1, 100, size=100)\n",
        "\n",
        "# Perform Spearman correlation coefficient\n",
        "correlation_coefficient, p_value = stats.spearmanr(x, y)\n",
        "print(\"\\nSpearman correlation coefficient:\")\n",
        "print(\"Coefficient:\", correlation_coefficient)\n",
        "print(\"p-value:\", p_value)\n",
        "\n",
        "# Interpret the result\n",
        "alpha = 0.05\n",
        "if p_value > alpha:\n",
        "    print(\"p-value > alpha: Fail to reject null hypothesis - No significant monotonic correlation\")\n",
        "else:\n",
        "    print(\"p-value <= alpha: Reject null hypothesis - Significant monotonic correlation\")\n"
      ],
      "metadata": {
        "colab": {
          "base_uri": "https://localhost:8080/"
        },
        "id": "jjd5rEeBpstA",
        "outputId": "c82f225b-d956-49d3-f2a0-5c5fb2324eb5"
      },
      "execution_count": null,
      "outputs": [
        {
          "output_type": "stream",
          "name": "stdout",
          "text": [
            "\n",
            "Spearman correlation coefficient:\n",
            "Coefficient: 0.01805279557207725\n",
            "p-value: 0.8585087516077552\n",
            "p-value > alpha: Fail to reject null hypothesis - No significant monotonic correlation\n"
          ]
        }
      ]
    },
    {
      "cell_type": "markdown",
      "source": [
        "# Kendall correlation coefficient: Measures ordinal correlation between two variables.\n"
      ],
      "metadata": {
        "id": "Dyrg9V70sBeG"
      }
    },
    {
      "cell_type": "code",
      "source": [
        "# Kendall correlation coefficient: Measures ordinal correlation between two variables.\n",
        "\"\"\"\n",
        "Explanation:\n",
        "- The Kendall correlation coefficient is used to measure the strength and direction of an ordinal relationship between two variables.\n",
        "- It assesses the similarity of the orderings of data points between two variables.\n",
        "- Kendall correlation coefficient ranges from -1 to 1, where -1 indicates a perfect negative ordinal relationship, 0 indicates no ordinal relationship, and 1 indicates a perfect positive ordinal relationship.\n",
        "- Kendall correlation does not assume that the data are normally distributed and is robust to outliers.\n",
        "- It is suitable for ordinal or ranked data and when the relationship between variables is non-linear or non-parametric.\n",
        "\"\"\"\n",
        "\n",
        "# Generate example data for two variables\n",
        "x = np.random.randint(1, 100, size=100)\n",
        "y = np.random.randint(1, 100, size=100)\n",
        "\n",
        "# Perform Kendall correlation coefficient\n",
        "correlation_coefficient, p_value = stats.kendalltau(x, y)\n",
        "print(\"\\nKendall correlation coefficient:\")\n",
        "print(\"Coefficient:\", correlation_coefficient)\n",
        "print(\"p-value:\", p_value)\n",
        "\n",
        "# Interpret the result\n",
        "alpha = 0.05\n",
        "if p_value > alpha:\n",
        "    print(\"p-value > alpha: Fail to reject null hypothesis - No significant ordinal correlation\")\n",
        "else:\n",
        "    print(\"p-value <= alpha: Reject null hypothesis - Significant ordinal correlation\")\n"
      ],
      "metadata": {
        "colab": {
          "base_uri": "https://localhost:8080/"
        },
        "id": "_Op6mhqFqN_G",
        "outputId": "d6dda0bb-ba51-4194-edc3-21c32c8c7307"
      },
      "execution_count": null,
      "outputs": [
        {
          "output_type": "stream",
          "name": "stdout",
          "text": [
            "\n",
            "Kendall correlation coefficient:\n",
            "Coefficient: -0.004076641610125598\n",
            "p-value: 0.9524835282030049\n",
            "p-value > alpha: Fail to reject null hypothesis - No significant ordinal correlation\n"
          ]
        }
      ]
    },
    {
      "cell_type": "markdown",
      "source": [
        "# Z-score method\n"
      ],
      "metadata": {
        "id": "vLxSevOBsD31"
      }
    },
    {
      "cell_type": "code",
      "source": [
        "# Z-score method\n",
        "\"\"\"\n",
        "Explanation:\n",
        "- The Z-score method is used to identify outliers based on the number of standard deviations away from the mean.\n",
        "- It calculates the Z-score for each data point, indicating how many standard deviations it is from the mean.\n",
        "- Data points with a Z-score beyond a certain threshold (usually 2 or 3) are considered outliers.\n",
        "- Z-score method assumes that the data are normally distributed.\n",
        "- It is widely used for detecting outliers in various fields such as finance, quality control, and data analysis.\n",
        "- Z-score method is appropriate for continuous data when the distribution is approximately normal.\n",
        "\"\"\"\n",
        "\n",
        "# Generate example data\n",
        "data = np.random.normal(loc=0, scale=1, size=100)\n",
        "\n",
        "# Calculate Z-scores\n",
        "z_scores = stats.zscore(data)\n",
        "\n",
        "# Define threshold for identifying outliers\n",
        "threshold = 3\n",
        "\n",
        "# Identify outliers\n",
        "outliers_indices = np.where(np.abs(z_scores) > threshold)[0]\n",
        "outliers = data[outliers_indices]\n",
        "\n",
        "# Print outliers\n",
        "print(\"Outliers identified using Z-score method:\")\n",
        "print(outliers)\n"
      ],
      "metadata": {
        "colab": {
          "base_uri": "https://localhost:8080/"
        },
        "id": "AvEYs4OQqft3",
        "outputId": "60bd02e3-08bc-45d1-c3fc-fdb222752c37"
      },
      "execution_count": null,
      "outputs": [
        {
          "output_type": "stream",
          "name": "stdout",
          "text": [
            "Outliers identified using Z-score method:\n",
            "[]\n"
          ]
        }
      ]
    },
    {
      "cell_type": "markdown",
      "source": [
        "# Modified Z-score method"
      ],
      "metadata": {
        "id": "yavdhm1usHBi"
      }
    },
    {
      "cell_type": "code",
      "source": [
        "import numpy as np\n",
        "\n",
        "# Modified Z-score method\n",
        "\"\"\"\n",
        "Explanation:\n",
        "- The Modified Z-score method is a robust version of the Z-score method that is less sensitive to outliers.\n",
        "- It calculates the Modified Z-score for each data point, taking into account the median absolute deviation (MAD) instead of the standard deviation.\n",
        "- Data points with a Modified Z-score beyond a certain threshold (usually 2.5 or 3.5) are considered outliers.\n",
        "- Modified Z-score method is more suitable for datasets with non-normal distributions or datasets containing outliers.\n",
        "- It is commonly used in outlier detection for skewed or heavy-tailed distributions.\n",
        "\"\"\"\n",
        "\n",
        "# Generate example data\n",
        "data = np.random.normal(loc=0, scale=1, size=100)\n",
        "data[0] = 100  # Introduce an outlier\n",
        "\n",
        "# Calculate Modified Z-scores\n",
        "median = np.median(data)\n",
        "mad = np.median(np.abs(data - median))\n",
        "modified_z_scores = 0.6745 * (data - median) / mad\n",
        "\n",
        "# Define threshold for identifying outliers\n",
        "threshold = 3.5\n",
        "\n",
        "# Identify outliers\n",
        "outliers_indices = np.where(np.abs(modified_z_scores) > threshold)[0]\n",
        "outliers = data[outliers_indices]\n",
        "\n",
        "# Print outliers\n",
        "print(\"Outliers identified using Modified Z-score method:\")\n",
        "print(outliers)\n"
      ],
      "metadata": {
        "colab": {
          "base_uri": "https://localhost:8080/"
        },
        "id": "TQaJ3GxOq7kt",
        "outputId": "d6ccc5db-d463-4a89-faa9-48fe31841570"
      },
      "execution_count": null,
      "outputs": [
        {
          "output_type": "stream",
          "name": "stdout",
          "text": [
            "Outliers identified using Modified Z-score method:\n",
            "[100.]\n"
          ]
        }
      ]
    },
    {
      "cell_type": "markdown",
      "source": [
        "# IQR method\n"
      ],
      "metadata": {
        "id": "OjofLOjRsJGv"
      }
    },
    {
      "cell_type": "code",
      "source": [
        "# IQR method\n",
        "\"\"\"\n",
        "Explanation:\n",
        "- The Interquartile Range (IQR) method is used to identify outliers based on the spread of the data.\n",
        "- It calculates the IQR, which is the difference between the third quartile (Q3) and the first quartile (Q1).\n",
        "- Data points outside the range [Q1 - 1.5 * IQR, Q3 + 1.5 * IQR] are considered outliers.\n",
        "- IQR method is robust to outliers and is suitable for datasets with non-normal distributions or datasets containing outliers.\n",
        "- It is commonly used in outlier detection for skewed or heavy-tailed distributions.\n",
        "\"\"\"\n",
        "\n",
        "# Generate example data\n",
        "data = np.random.normal(loc=0, scale=1, size=100)\n",
        "data[0] = 100  # Introduce an outlier\n",
        "\n",
        "# Calculate quartiles and IQR\n",
        "Q1 = np.percentile(data, 25)\n",
        "Q3 = np.percentile(data, 75)\n",
        "IQR = Q3 - Q1\n",
        "\n",
        "# Define thresholds for identifying outliers\n",
        "lower_threshold = Q1 - 1.5 * IQR\n",
        "upper_threshold = Q3 + 1.5 * IQR\n",
        "\n",
        "# Identify outliers\n",
        "outliers = data[(data < lower_threshold) | (data > upper_threshold)]\n",
        "\n",
        "# Print outliers\n",
        "print(\"\\nOutliers identified using IQR method:\")\n",
        "print(outliers)\n"
      ],
      "metadata": {
        "colab": {
          "base_uri": "https://localhost:8080/"
        },
        "id": "8hdk83rWrn_w",
        "outputId": "ff67462c-48e2-41c8-faff-e23e6c7cae36"
      },
      "execution_count": null,
      "outputs": [
        {
          "output_type": "stream",
          "name": "stdout",
          "text": [
            "\n",
            "Outliers identified using IQR method:\n",
            "[100.         -2.4150045]\n"
          ]
        }
      ]
    },
    {
      "cell_type": "markdown",
      "source": [
        "# Distribution Fitting\n"
      ],
      "metadata": {
        "id": "JCRJxm3bsPi3"
      }
    },
    {
      "cell_type": "code",
      "source": [
        "import numpy as np\n",
        "import scipy.stats as stats\n",
        "import matplotlib.pyplot as plt\n",
        "\n",
        "# Distribution Fitting\n",
        "\"\"\"\n",
        "Explanation:\n",
        "- Distribution fitting is the process of fitting a probability distribution to a dataset.\n",
        "- It involves selecting a probability distribution function (e.g., normal, exponential, gamma) that best describes the data.\n",
        "- The goodness-of-fit of the selected distribution to the data is assessed using statistical measures such as the chi-square test,\n",
        "   Kolmogorov-Smirnov test, or Anderson-Darling test.\n",
        "- Distribution fitting helps to understand the underlying distribution of the data and make predictions based on the fitted distribution.\n",
        "- It is used in various fields including finance, engineering, and environmental sciences.\n",
        "- Distribution fitting is applied when the distribution of the data is unknown or needs to be modeled for further analysis.\n",
        "- This method is typically used after exploratory data analysis to select the best-fitting distribution for the data.\n",
        "\"\"\"\n",
        "\n",
        "# Generate example data\n",
        "data = np.random.normal(loc=0, scale=1, size=1000)\n",
        "\n",
        "# Fit the data to a normal distribution\n",
        "params = stats.norm.fit(data)\n",
        "print(\"Fitted parameters for normal distribution:\", params)\n",
        "\n",
        "# Plot histogram of the data\n",
        "plt.hist(data, bins=30, density=True, alpha=0.6, color='g', label='Histogram')\n",
        "\n",
        "# Plot fitted normal distribution\n",
        "xmin, xmax = plt.xlim()\n",
        "x = np.linspace(xmin, xmax, 100)\n",
        "p = stats.norm.pdf(x, *params)\n",
        "plt.plot(x, p, 'k', linewidth=2, label='Fitted Normal Distribution')\n",
        "\n",
        "# Add legend and labels\n",
        "plt.legend()\n",
        "plt.xlabel('Data')\n",
        "plt.ylabel('Probability Density')\n",
        "plt.title('Distribution Fitting - Normal Distribution')\n",
        "plt.show()\n"
      ],
      "metadata": {
        "colab": {
          "base_uri": "https://localhost:8080/",
          "height": 489
        },
        "id": "TfAvHDWvsXcj",
        "outputId": "577858a8-e642-4460-b462-7f2148627402"
      },
      "execution_count": null,
      "outputs": [
        {
          "output_type": "stream",
          "name": "stdout",
          "text": [
            "Fitted parameters for normal distribution: (0.022319903140567247, 0.9979815478245002)\n"
          ]
        },
        {
          "output_type": "display_data",
          "data": {
            "text/plain": [
              "<Figure size 640x480 with 1 Axes>"
            ],
            "image/png": "[encoded data removed]"
          },
          "metadata": {}
        }
      ]
    },
    {
      "cell_type": "markdown",
      "source": [
        "# Jarque-Bera Test for Normality\n"
      ],
      "metadata": {
        "id": "FjOyCKM4scfd"
      }
    },
    {
      "cell_type": "code",
      "source": [
        "import numpy as np\n",
        "import scipy.stats as stats\n",
        "\n",
        "# Jarque-Bera Test for Normality\n",
        "\"\"\"\n",
        "Explanation:\n",
        "- The Jarque-Bera test is a goodness-of-fit test used to assess whether a given sample has skewness and kurtosis matching a normal distribution.\n",
        "- It tests the null hypothesis that the skewness and kurtosis of the sample match those of a normal distribution.\n",
        "- This test is particularly useful for testing the normality assumption, similar to the Shapiro-Wilk, Kolmogorov-Smirnov, and Anderson-Darling tests.\n",
        "- The Jarque-Bera test is sensitive to departures from normality in both skewness and kurtosis.\n",
        "- It is commonly applied in finance, economics, and other fields where the assumption of normality is important for statistical analysis.\n",
        "\"\"\"\n",
        "\n",
        "# Generate example data\n",
        "data = np.random.normal(loc=0, scale=1, size=1000)\n",
        "\n",
        "# Perform Jarque-Bera test\n",
        "statistic, p_value = stats.jarque_bera(data)\n",
        "print(\"Jarque-Bera test statistic:\", statistic)\n",
        "print(\"p-value:\", p_value)\n",
        "\n",
        "# Interpret the result\n",
        "alpha = 0.05\n",
        "if p_value > alpha:\n",
        "    print(\"p-value > alpha: Fail to reject null hypothesis - Data may come from a normal distribution\")\n",
        "else:\n",
        "    print(\"p-value <= alpha: Reject null hypothesis - Data likely does not come from a normal distribution\")\n"
      ],
      "metadata": {
        "colab": {
          "base_uri": "https://localhost:8080/"
        },
        "id": "yHmziODuudBu",
        "outputId": "72c98f73-9dbd-4244-dc3e-d097b3220255"
      },
      "execution_count": null,
      "outputs": [
        {
          "output_type": "stream",
          "name": "stdout",
          "text": [
            "Jarque-Bera test statistic: 0.54772574860295\n",
            "p-value: 0.7604363434765757\n",
            "p-value > alpha: Fail to reject null hypothesis - Data may come from a normal distribution\n"
          ]
        }
      ]
    }
  ]
}