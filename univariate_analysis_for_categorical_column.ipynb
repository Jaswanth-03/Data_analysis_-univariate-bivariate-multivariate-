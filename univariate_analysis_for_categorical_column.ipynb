{
  "nbformat": 4,
  "nbformat_minor": 0,
  "metadata": {
    "colab": {
      "provenance": [],
      "authorship_tag": "ABX9TyMQb5LpXZ8+ScyHCsgW5+WG",
      "include_colab_link": true
    },
    "kernelspec": {
      "name": "python3",
      "display_name": "Python 3"
    },
    "language_info": {
      "name": "python"
    }
  },
  "cells": [
    {
      "cell_type": "markdown",
      "metadata": {
        "id": "view-in-github",
        "colab_type": "text"
      },
      "source": [
        "<a href=\"https://colab.research.google.com/github/Jaswanth-03/Data_analysis_-univariate-bivariate-multivariate-/blob/main/univariate_analysis_for_categorical_column.ipynb\" target=\"_parent\"><img src=\"https://colab.research.google.com/assets/colab-badge.svg\" alt=\"Open In Colab\"/></a>"
      ]
    },
    {
      "cell_type": "markdown",
      "source": [
        "# univariate analysis for categorical column"
      ],
      "metadata": {
        "id": "Wt2adfym18Ei"
      }
    },
    {
      "cell_type": "markdown",
      "source": [
        "# Frequency Distribution"
      ],
      "metadata": {
        "id": "JNb4PJTTswEW"
      }
    },
    {
      "cell_type": "code",
      "execution_count": null,
      "metadata": {
        "colab": {
          "base_uri": "https://localhost:8080/"
        },
        "id": "V3A0x5rm1z4w",
        "outputId": "ce0255d8-c15b-451b-ffa3-13bad58a54cb"
      },
      "outputs": [
        {
          "output_type": "stream",
          "name": "stdout",
          "text": [
            "Frequency Distribution:\n",
            "A    4\n",
            "B    3\n",
            "C    2\n",
            "D    1\n",
            "dtype: int64\n"
          ]
        }
      ],
      "source": [
        "import pandas as pd\n",
        "\n",
        "# Sample categorical column\n",
        "data = pd.Series(['A', 'B', 'A', 'C', 'A', 'B', 'B', 'C', 'D', 'A'])\n",
        "\n",
        "# Frequency Distribution\n",
        "\"\"\"\n",
        "Explanation:\n",
        "- Frequency distribution provides a summary of the number of occurrences of each category in the categorical column.\n",
        "- It shows the count or frequency of each unique category present in the data.\n",
        "- Frequency distribution is useful for understanding the distribution of categorical data and identifying the most common categories.\n",
        "- It helps in exploring the characteristics and patterns of the categorical variable.\n",
        "- Frequency distribution is a fundamental analysis technique in descriptive statistics.\n",
        "\"\"\"\n",
        "\n",
        "# Generate frequency distribution\n",
        "frequency_distribution = data.value_counts()\n",
        "\n",
        "# Print frequency distribution\n",
        "print(\"Frequency Distribution:\")\n",
        "print(frequency_distribution)\n"
      ]
    },
    {
      "cell_type": "markdown",
      "source": [
        "# Mode"
      ],
      "metadata": {
        "id": "4H-53AMxszLl"
      }
    },
    {
      "cell_type": "code",
      "source": [
        "import pandas as pd\n",
        "\n",
        "# Sample categorical column\n",
        "data = pd.Series(['A', 'B', 'A', 'C', 'A', 'B', 'B', 'C', 'D', 'A'])\n",
        "\n",
        "# Mode\n",
        "\"\"\"\n",
        "Explanation:\n",
        "- Mode is the most frequently occurring category in the categorical column.\n",
        "- It provides a measure of central tendency for categorical data.\n",
        "- Mode is used to identify the category with the highest frequency or occurrence.\n",
        "- It helps in understanding the typical or most common category in the dataset.\n",
        "- Mode is a descriptive statistic that summarizes the distribution of categorical data.\n",
        "\"\"\"\n",
        "\n",
        "# Calculate mode\n",
        "mode = data.mode()[0]\n",
        "\n",
        "# Print mode\n",
        "print(\"Mode:\", mode)\n"
      ],
      "metadata": {
        "colab": {
          "base_uri": "https://localhost:8080/"
        },
        "id": "cVU6ctt_2BcK",
        "outputId": "09e2968a-7717-4471-f8d8-7a8b1f217bbb"
      },
      "execution_count": null,
      "outputs": [
        {
          "output_type": "stream",
          "name": "stdout",
          "text": [
            "Mode: A\n"
          ]
        }
      ]
    },
    {
      "cell_type": "markdown",
      "source": [
        "# Bar Chart"
      ],
      "metadata": {
        "id": "Vxe_lqnVs2VU"
      }
    },
    {
      "cell_type": "code",
      "source": [
        "import pandas as pd\n",
        "import matplotlib.pyplot as plt\n",
        "\n",
        "# Sample categorical column\n",
        "data = pd.Series(['A', 'B', 'A', 'C', 'A', 'B', 'B', 'C', 'D', 'A'])\n",
        "\n",
        "# Bar Chart\n",
        "\"\"\"\n",
        "Explanation:\n",
        "- A bar chart (or bar plot) visually represents the frequency distribution of categories in the categorical column using bars of different heights.\n",
        "- Each bar represents the frequency or count of each unique category in the data.\n",
        "- Bar charts are useful for visualizing and comparing the distribution of categorical data.\n",
        "- They provide a clear visual representation of the relative frequencies of categories and facilitate easy interpretation.\n",
        "- Bar charts are commonly used in exploratory data analysis (EDA) and data visualization to understand the distribution and patterns in categorical data.\n",
        "\"\"\"\n",
        "\n",
        "# Calculate frequency distribution\n",
        "frequency_distribution = data.value_counts()\n",
        "\n",
        "# Plot bar chart\n",
        "plt.figure(figsize=(8, 6))\n",
        "frequency_distribution.plot(kind='bar', color='skyblue')\n",
        "plt.title('Bar Chart - Frequency Distribution')\n",
        "plt.xlabel('Categories')\n",
        "plt.ylabel('Frequency')\n",
        "plt.xticks(rotation=45)\n",
        "plt.grid(axis='y', linestyle='--', alpha=0.7)\n",
        "plt.show()\n"
      ],
      "metadata": {
        "colab": {
          "base_uri": "https://localhost:8080/",
          "height": 568
        },
        "id": "RY4MDkCs2m6Y",
        "outputId": "6015d8ea-1a9d-427e-f0a7-1fe34d26939a"
      },
      "execution_count": null,
      "outputs": [
        {
          "output_type": "display_data",
          "data": {
            "text/plain": [
              "<Figure size 800x600 with 1 Axes>"
            ],
            "image/png": "[encoded data removed]"
          },
          "metadata": {}
        }
      ]
    },
    {
      "cell_type": "markdown",
      "source": [
        "# Pie Chart"
      ],
      "metadata": {
        "id": "ni4NDbDgs7Ik"
      }
    },
    {
      "cell_type": "code",
      "source": [
        "import pandas as pd\n",
        "import matplotlib.pyplot as plt\n",
        "\n",
        "# Sample categorical column\n",
        "data = pd.Series(['A', 'B', 'A', 'C', 'A', 'B', 'B', 'C', 'D', 'A'])\n",
        "\n",
        "# Pie Chart\n",
        "\"\"\"\n",
        "Explanation:\n",
        "- A pie chart visually represents the relative frequencies of categories in the categorical column as slices of a pie.\n",
        "- Each slice of the pie represents the proportion of each unique category in the data.\n",
        "- Pie charts are useful for visualizing the distribution of categorical data and highlighting the relative sizes of categories.\n",
        "- They provide a quick and intuitive way to compare the proportions of different categories in the data.\n",
        "- Pie charts are commonly used in presentations, reports, and dashboards to communicate categorical data distributions effectively.\n",
        "\"\"\"\n",
        "\n",
        "# Calculate relative frequencies\n",
        "relative_frequencies = data.value_counts(normalize=True)\n",
        "\n",
        "# Plot pie chart\n",
        "plt.figure(figsize=(8, 6))\n",
        "plt.pie(relative_frequencies, labels=relative_frequencies.index, autopct='%1.1f%%', colors=plt.cm.tab10.colors)\n",
        "plt.title('Pie Chart - Relative Frequencies')\n",
        "plt.axis('equal')  # Equal aspect ratio ensures that pie is drawn as a circle.\n",
        "plt.show()\n"
      ],
      "metadata": {
        "colab": {
          "base_uri": "https://localhost:8080/",
          "height": 521
        },
        "id": "aXajDzfw3As6",
        "outputId": "151d28c9-6f7d-42d3-9da6-eb1065c2fe5a"
      },
      "execution_count": null,
      "outputs": [
        {
          "output_type": "display_data",
          "data": {
            "text/plain": [
              "<Figure size 800x600 with 1 Axes>"
            ],
            "image/png": "[encoded data removed]"
          },
          "metadata": {}
        }
      ]
    },
    {
      "cell_type": "markdown",
      "source": [
        "# Count Plot"
      ],
      "metadata": {
        "id": "2ErJLB0Ys_Hc"
      }
    },
    {
      "cell_type": "code",
      "source": [
        "import pandas as pd\n",
        "import seaborn as sns\n",
        "import matplotlib.pyplot as plt\n",
        "\n",
        "# Sample categorical column\n",
        "data = pd.Series(['A', 'B', 'A', 'C', 'A', 'B', 'B', 'C', 'D', 'A'])\n",
        "\n",
        "# Count Plot\n",
        "\"\"\"\n",
        "Explanation:\n",
        "- A count plot is a type of bar plot that displays the count of observations in each category of the categorical column.\n",
        "- It provides a visual representation of the frequency distribution of categories.\n",
        "- Count plots are particularly useful for categorical variables with a relatively small number of unique categories.\n",
        "- They help in quickly understanding the distribution and frequency of each category in the data.\n",
        "- Count plots are commonly used in exploratory data analysis (EDA) and data visualization to analyze categorical variables.\n",
        "\"\"\"\n",
        "\n",
        "# Plot count plot using Seaborn\n",
        "plt.figure(figsize=(8, 6))\n",
        "sns.countplot(data=data, palette='pastel')\n",
        "plt.title('Count Plot - Frequency Distribution')\n",
        "plt.xlabel('Count')\n",
        "plt.ylabel('Categories')\n",
        "plt.xticks(rotation=45)\n",
        "plt.grid(axis='y', linestyle='--', alpha=0.7)\n",
        "plt.show()\n"
      ],
      "metadata": {
        "colab": {
          "base_uri": "https://localhost:8080/",
          "height": 663
        },
        "id": "9V5DbkV13SQI",
        "outputId": "0289ad8a-715b-41c9-ed19-a03341e903a4"
      },
      "execution_count": null,
      "outputs": [
        {
          "output_type": "stream",
          "name": "stderr",
          "text": [
            "<ipython-input-6-e79c0be49af4>:20: FutureWarning: \n",
            "\n",
            "Passing `palette` without assigning `hue` is deprecated and will be removed in v0.14.0. Assign the `y` variable to `hue` and set `legend=False` for the same effect.\n",
            "\n",
            "  sns.countplot(data=data, palette='pastel')\n"
          ]
        },
        {
          "output_type": "display_data",
          "data": {
            "text/plain": [
              "<Figure size 800x600 with 1 Axes>"
            ],
            "image/png": "[encoded data removed]"
          },
          "metadata": {}
        }
      ]
    },
    {
      "cell_type": "markdown",
      "source": [
        "# Chi-square Test of Independence\n"
      ],
      "metadata": {
        "id": "qkh0o-jetFQc"
      }
    },
    {
      "cell_type": "code",
      "source": [
        "import pandas as pd\n",
        "from scipy.stats import chi2_contingency\n",
        "\n",
        "# Sample data with two categorical variables\n",
        "data = pd.DataFrame({'Variable1': ['A', 'B', 'A', 'B', 'A'],\n",
        "                     'Variable2': ['X', 'Y', 'Y', 'X', 'X']})\n",
        "\n",
        "# Chi-square Test of Independence\n",
        "\"\"\"\n",
        "Explanation:\n",
        "- The chi-square test of independence is used to determine whether there is a significant association between two categorical variables.\n",
        "- It assesses whether the observed frequencies of categories in one variable are independent of the categories in another variable.\n",
        "- The null hypothesis assumes that there is no association between the two variables (they are independent).\n",
        "- The alternative hypothesis suggests that there is an association between the two variables (they are dependent).\n",
        "- The test statistic follows a chi-square distribution, and the p-value indicates the probability of observing the data if the variables are independent.\n",
        "A low p-value (typically less than 0.05) indicates a significant relationship between the variables, leading us to reject the null hypothesis of independence.\n",
        "A high p-value suggests we fail to reject the null hypothesis, implying there might be no significant relationship.\n",
        "\"\"\"\n",
        "\n",
        "# Contingency table\n",
        "contingency_table = pd.crosstab(data['Variable1'], data['Variable2'])\n",
        "\n",
        "# Perform chi-square test of independence\n",
        "chi2, p_value, dof, expected = chi2_contingency(contingency_table)\n",
        "\n",
        "# Print results\n",
        "print(\"contingency_table:\\n\", contingency_table)\n",
        "print(\"Chi-square test statistic:\", chi2)\n",
        "print(\"P-value:\", p_value)\n",
        "print(\"Degrees of freedom:\", dof)\n",
        "print(\"Expected frequencies:\\n\", expected)\n",
        "\n",
        "# Determine whether to reject null hypothesis based on p-value\n",
        "alpha = 0.05  # Significance level\n",
        "if p_val < alpha:\n",
        "    print(\"Reject null hypothesis: There is significant evidence of association between the categorical variables.\")\n",
        "else:\n",
        "    print(\"Fail to reject null hypothesis: There is no significant evidence of association between the categorical variables.\")"
      ],
      "metadata": {
        "colab": {
          "base_uri": "https://localhost:8080/"
        },
        "id": "yYh3vgnU3eZa",
        "outputId": "72b46ecc-da09-4494-8146-2c4476549305"
      },
      "execution_count": null,
      "outputs": [
        {
          "output_type": "stream",
          "name": "stdout",
          "text": [
            "contingency_table:\n",
            " Variable2  X  Y\n",
            "Variable1      \n",
            "A          2  1\n",
            "B          1  1\n",
            "Chi-square test statistic: 0.0\n",
            "P-value: 1.0\n",
            "Degrees of freedom: 1\n",
            "Expected frequencies:\n",
            " [[1.8 1.2]\n",
            " [1.2 0.8]]\n",
            "Fail to reject null hypothesis: There is no significant evidence of association between the categorical variables.\n"
          ]
        }
      ]
    },
    {
      "cell_type": "markdown",
      "source": [
        "# Cramér's V"
      ],
      "metadata": {
        "id": "sZakQwjstIYx"
      }
    },
    {
      "cell_type": "code",
      "source": [
        "import pandas as pd\n",
        "import numpy as np\n",
        "import scipy.stats as stats\n",
        "\n",
        "# Sample dataset\n",
        "data = {\n",
        "    'Gender': ['Male', 'Female', 'Male', 'Female', 'Male', 'Female', 'Male', 'Female', 'Male', 'Female'],\n",
        "    'Smoking': ['Yes', 'No', 'No', 'Yes', 'No', 'Yes', 'Yes', 'No', 'No', 'Yes']\n",
        "}\n",
        "\n",
        "# Convert data to DataFrame\n",
        "df = pd.DataFrame(data)\n",
        "\n",
        "# Cramér's V\n",
        "\"\"\"\n",
        "Explanation:\n",
        "- Cramér's V is a measure of association between two categorical variables, similar to the correlation coefficient for continuous variables.\n",
        "- It quantifies the strength and direction of association between categorical variables.\n",
        "- The value of Cramér's V ranges from 0 to 1, where 0 indicates no association and 1 indicates a perfect association.\n",
        "- It is computed based on the chi-square statistic and the number of observations.\n",
        "- Cramér's V is particularly useful for understanding the strength of association between categorical variables.\n",
        "\"\"\"\n",
        "\n",
        "def cramers_v(confusion_matrix):\n",
        "    \"\"\"\n",
        "    Compute Cramér's V statistic for categorical-categorical association.\n",
        "\n",
        "    Parameters:\n",
        "    - confusion_matrix: 2D array, confusion matrix (cross-tabulation) of two categorical variables.\n",
        "\n",
        "    Returns:\n",
        "    - cramers_v: float, Cramér's V statistic.\n",
        "    \"\"\"\n",
        "    chi2_stat = stats.chi2_contingency(confusion_matrix)[0]\n",
        "    n = confusion_matrix.sum()\n",
        "    min_dim = min(confusion_matrix.shape)\n",
        "    return np.sqrt(chi2_stat / (n * (min_dim - 1)))\n",
        "\n",
        "# Calculate contingency table\n",
        "contingency_table = pd.crosstab(df['Gender'], df['Smoking'])\n",
        "print(\"contingency_table:\\n\", contingency_table)\n",
        "\n",
        "# Calculate Cramér's V\n",
        "cramers_v_statistic = cramers_v(contingency_table.values)\n",
        "\n",
        "# Print Cramér's V\n",
        "print(\"Cramér's V statistic:\", cramers_v_statistic)\n"
      ],
      "metadata": {
        "colab": {
          "base_uri": "https://localhost:8080/"
        },
        "id": "JWEflwjT8fxM",
        "outputId": "878ed215-6ce3-4193-ded3-935481d782c2"
      },
      "execution_count": null,
      "outputs": [
        {
          "output_type": "stream",
          "name": "stdout",
          "text": [
            "contingency_table:\n",
            " Smoking  No  Yes\n",
            "Gender          \n",
            "Female    2    3\n",
            "Male      3    2\n",
            "Cramér's V statistic: 0.0\n"
          ]
        }
      ]
    },
    {
      "cell_type": "markdown",
      "source": [
        "# Entropy"
      ],
      "metadata": {
        "id": "Dk7zFb-btMSN"
      }
    },
    {
      "cell_type": "code",
      "source": [
        "import pandas as pd\n",
        "import numpy as np\n",
        "\n",
        "# Sample dataset\n",
        "data = {\n",
        "    'Category': ['A', 'B', 'A', 'C', 'B', 'C', 'A', 'B', 'C', 'A']\n",
        "}\n",
        "\n",
        "# Convert data to DataFrame\n",
        "df = pd.DataFrame(data)\n",
        "\n",
        "# Entropy\n",
        "\"\"\"\n",
        "Explanation:\n",
        "- Entropy measures the uncertainty or randomness in the categorical variable's distribution.\n",
        "- It quantifies the amount of disorder or unpredictability in the data.\n",
        "- The entropy of a categorical variable ranges from 0 to 1, where 0 indicates no uncertainty (all observations belong to the same category) and\n",
        " 1 indicates maximum uncertainty (equal distribution across all categories).\n",
        "- Entropy is used in decision trees and information theory to evaluate the purity or homogeneity of a split based on categorical variables.\n",
        "\"\"\"\n",
        "\n",
        "def entropy(series):\n",
        "    \"\"\"\n",
        "    Compute entropy for a categorical variable.\n",
        "\n",
        "    Parameters:\n",
        "    - series: pandas Series, categorical variable.\n",
        "\n",
        "    Returns:\n",
        "    - entropy: float, entropy value.\n",
        "    \"\"\"\n",
        "    value_counts = series.value_counts(normalize=True)\n",
        "    return -np.sum(value_counts * np.log2(value_counts))\n",
        "\n",
        "# Calculate entropy\n",
        "entropy_value = entropy(df['Category'])\n",
        "\n",
        "# Print entropy\n",
        "print(\"Entropy value:\", entropy_value)\n"
      ],
      "metadata": {
        "colab": {
          "base_uri": "https://localhost:8080/"
        },
        "id": "OuhRRNJ4-Hrd",
        "outputId": "d2fa8e73-c468-4384-f499-0164de43a426"
      },
      "execution_count": null,
      "outputs": [
        {
          "output_type": "stream",
          "name": "stdout",
          "text": [
            "Entropy value: 1.5709505944546684\n"
          ]
        }
      ]
    },
    {
      "cell_type": "markdown",
      "source": [
        "# Gini Index"
      ],
      "metadata": {
        "id": "XqiGGWkHtO1s"
      }
    },
    {
      "cell_type": "code",
      "source": [
        "import pandas as pd\n",
        "import numpy as np\n",
        "\n",
        "# Sample dataset\n",
        "data = {\n",
        "    'Category': ['A', 'B', 'A', 'C', 'B', 'C', 'A', 'B', 'C', 'A']\n",
        "}\n",
        "\n",
        "# Convert data to DataFrame\n",
        "df = pd.DataFrame(data)\n",
        "\n",
        "# Gini Index\n",
        "\"\"\"\n",
        "Explanation:\n",
        "- Gini index is a measure of impurity or inequality in the categorical variable's distribution.\n",
        "- It quantifies the degree of inequality among values of a frequency distribution.\n",
        "- The Gini index of a categorical variable ranges from 0 to 1, where 0 indicates perfect equality (all observations belong to one category) and\n",
        "1 indicates maximum inequality (equal distribution across all categories).\n",
        "- Gini index is used in decision trees to evaluate the quality of a split based on categorical variables.\n",
        "\"\"\"\n",
        "\n",
        "def gini_index(series):\n",
        "    \"\"\"\n",
        "    Compute Gini index for a categorical variable.\n",
        "\n",
        "    Parameters:\n",
        "    - series: pandas Series, categorical variable.\n",
        "\n",
        "    Returns:\n",
        "    - gini_index: float, Gini index value.\n",
        "    \"\"\"\n",
        "    value_counts = series.value_counts(normalize=True)\n",
        "    return 1 - np.sum(value_counts ** 2)\n",
        "\n",
        "# Calculate Gini index\n",
        "gini_index_value = gini_index(df['Category'])\n",
        "\n",
        "# Print Gini index\n",
        "print(\"Gini Index value:\", gini_index_value)\n"
      ],
      "metadata": {
        "colab": {
          "base_uri": "https://localhost:8080/"
        },
        "id": "QzM-8tZp-zCR",
        "outputId": "031c9b1f-4461-41f9-839f-b3cba143cc5d"
      },
      "execution_count": null,
      "outputs": [
        {
          "output_type": "stream",
          "name": "stdout",
          "text": [
            "Gini Index value: 0.66\n"
          ]
        }
      ]
    },
    {
      "cell_type": "markdown",
      "source": [
        "# Fisher's Exact Test"
      ],
      "metadata": {
        "id": "PlrjkHeRtR3j"
      }
    },
    {
      "cell_type": "code",
      "source": [
        "from scipy.stats import fisher_exact\n",
        "\n",
        "# Sample contingency table (2x2)\n",
        "#           | Category 1 | Category 2 |\n",
        "# -------------------------------------\n",
        "# Group 1   |    10      |     5      |\n",
        "# -------------------------------------\n",
        "# Group 2   |    8       |     7      |\n",
        "# -------------------------------------\n",
        "contingency_table = [[10, 5],\n",
        "                     [8, 7]]\n",
        "\n",
        "# Fisher's Exact Test\n",
        "\"\"\"\n",
        "Explanation:\n",
        "- Fisher's exact test is used to determine whether there is a significant association between two categorical variables.\n",
        "- It is particularly suitable for small sample sizes or when the chi-square test assumptions are violated.\n",
        "- Fisher's exact test calculates the exact probability of observing a particular distribution of frequencies under the null hypothesis of independence between the variables.\n",
        "- This test is commonly used in contingency tables with small sample sizes or when cell counts are low.\n",
        "- Null Hypothesis: There is no association between the two categorical variables.\n",
        "- Alternative Hypothesis: There is an association between the two categorical variables.\n",
        "\"\"\"\n",
        "\n",
        "# Perform Fisher's Exact Test\n",
        "odds_ratio, p_value = fisher_exact(contingency_table)\n",
        "\n",
        "# Print results\n",
        "print(\"Odds Ratio:\", odds_ratio)\n",
        "print(\"P-value:\", p_value)\n",
        "\n",
        "# Decision based on p-value\n",
        "alpha = 0.05  # Significance level\n",
        "if p_value < alpha:\n",
        "    print(\"Reject the null hypothesis: There is a significant association between the two categorical variables.\")\n",
        "else:\n",
        "    print(\"Fail to reject the null hypothesis: There is no significant association between the two categorical variables.\")\n"
      ],
      "metadata": {
        "colab": {
          "base_uri": "https://localhost:8080/"
        },
        "id": "4JMDQB_HAJz8",
        "outputId": "6392c00d-67f3-4c99-bc61-3f7ac53134fc"
      },
      "execution_count": null,
      "outputs": [
        {
          "output_type": "stream",
          "name": "stdout",
          "text": [
            "Odds Ratio: 1.75\n",
            "P-value: 0.7103816512796233\n",
            "Fail to reject the null hypothesis: There is no significant association between the two categorical variables.\n"
          ]
        }
      ]
    },
    {
      "cell_type": "markdown",
      "source": [
        "# McNemar's Test"
      ],
      "metadata": {
        "id": "Q-hFChgStUxs"
      }
    },
    {
      "cell_type": "code",
      "source": [
        "from scipy.stats import chi2_contingency\n",
        "\n",
        "# Sample contingency table (2x2)\n",
        "#                | Outcome 1 (Before) | Outcome 2 (Before) |\n",
        "# -----------------------------------------------------------\n",
        "# Outcome 1 (After)  |        a           |         b          |\n",
        "# -----------------------------------------------------------\n",
        "# Outcome 2 (After)  |        c           |         d          |\n",
        "# -----------------------------------------------------------\n",
        "# Note: a, b, c, d represent counts of paired observations with different outcomes\n",
        "a = 60\n",
        "b = 20\n",
        "c = 10\n",
        "d = 70\n",
        "\n",
        "# McNemar's Test\n",
        "\"\"\"\n",
        "Explanation:\n",
        "- McNemar's test is used to determine whether there is a significant change in proportions between two related categorical variables.\n",
        "- It is typically used when analyzing paired categorical data or before-and-after treatment scenarios.\n",
        "- McNemar's test evaluates whether the marginal proportions of one variable are equal to the conditional proportions of the other variable.\n",
        "- This test is commonly applied in medical research, psychology, and social sciences to assess changes in proportions over time or after an intervention.\n",
        "- Null Hypothesis: There is no significant change in proportions between the two related categorical variables.\n",
        "- Alternative Hypothesis: There is a significant change in proportions between the two related categorical variables.\n",
        "\"\"\"\n",
        "\n",
        "# Calculate test statistic and p-value\n",
        "chi2_statistic = ((b - c) ** 2) / (b + c)\n",
        "p_value = 1 - chi2_contingency([[b, c], [a, d]])[1]\n",
        "\n",
        "# Print results\n",
        "print(\"Chi-square Statistic:\", chi2_statistic)\n",
        "print(\"P-value:\", p_value)\n",
        "\n",
        "# Decision based on p-value\n",
        "alpha = 0.05  # Significance level\n",
        "if p_value < alpha:\n",
        "    print(\"Reject the null hypothesis: There is a significant change in proportions between the two related categorical variables.\")\n",
        "else:\n",
        "    print(\"Fail to reject the null hypothesis: There is no significant change in proportions between the two related categorical variables.\")\n"
      ],
      "metadata": {
        "colab": {
          "base_uri": "https://localhost:8080/"
        },
        "id": "gnVW9qEgCVfB",
        "outputId": "f7bb79d8-eb61-4c6e-eb93-9d7c5ec84f75"
      },
      "execution_count": null,
      "outputs": [
        {
          "output_type": "stream",
          "name": "stdout",
          "text": [
            "Chi-square Statistic: 3.3333333333333335\n",
            "P-value: 0.9316861368491013\n",
            "Fail to reject the null hypothesis: There is no significant change in proportions between the two related categorical variables.\n"
          ]
        }
      ]
    },
    {
      "cell_type": "markdown",
      "source": [
        "# Bhattacharyya Coefficient"
      ],
      "metadata": {
        "id": "QAWXbxoYtYNr"
      }
    },
    {
      "cell_type": "code",
      "source": [
        "import numpy as np\n",
        "\n",
        "\n",
        "# Sample categorical distributions\n",
        "distribution_1 = [0.2, 0.3, 0.5]  # Example: probabilities of categories for variable 1\n",
        "distribution_2 = [0.3, 0.4, 0.3]  # Example: probabilities of categories for variable 2\n",
        "\n",
        "# Bhattacharyya Coefficient\n",
        "\"\"\"\n",
        "Explanation:\n",
        "- The Bhattacharyya coefficient measures the similarity between two categorical distributions.\n",
        "- It quantifies the degree of overlap or similarity between the distributions of two categorical variables.\n",
        "- The coefficient ranges from 0 to 1, where 0 indicates no overlap (complete dissimilarity) and 1 indicates complete overlap (identical distributions).\n",
        "- This coefficient is useful for comparing the similarity of distributions across different categorical variables.\n",
        "\"\"\"\n",
        "\n",
        "def bhattacharyya_coefficient(dist_1, dist_2):\n",
        "    \"\"\"\n",
        "    Calculate Bhattacharyya coefficient between two categorical distributions.\n",
        "\n",
        "    Parameters:\n",
        "    - dist_1: list, probabilities of categories for the first variable.\n",
        "    - dist_2: list, probabilities of categories for the second variable.\n",
        "\n",
        "    Returns:\n",
        "    - coefficient: float, Bhattacharyya coefficient.\n",
        "    \"\"\"\n",
        "    assert len(dist_1) == len(dist_2), \"Both distributions must have the same length.\"\n",
        "    coefficient = np.sum(np.sqrt(np.multiply(dist_1, dist_2)))\n",
        "    return coefficient\n",
        "\n",
        "# Calculate Bhattacharyya coefficient\n",
        "bc = bhattacharyya_coefficient(distribution_1, distribution_2)\n",
        "\n",
        "# Print Bhattacharyya coefficient\n",
        "print(\"Bhattacharyya Coefficient:\", bc)\n"
      ],
      "metadata": {
        "colab": {
          "base_uri": "https://localhost:8080/"
        },
        "id": "SuZe3T6UDxkV",
        "outputId": "bf5276cd-77c7-4875-8b5e-0aa039c37db8"
      },
      "execution_count": null,
      "outputs": [
        {
          "output_type": "stream",
          "name": "stdout",
          "text": [
            "Bhattacharyya Coefficient: 0.978657470412835\n"
          ]
        }
      ]
    },
    {
      "cell_type": "markdown",
      "source": [
        "# G-test"
      ],
      "metadata": {
        "id": "P54gTqRZtbRj"
      }
    },
    {
      "cell_type": "code",
      "source": [
        "from scipy.stats import chi2_contingency\n",
        "\n",
        "# Sample contingency table (2x2)\n",
        "#           | Category 1 | Category 2 |\n",
        "# -------------------------------------\n",
        "# Group 1   |    10      |     5      |\n",
        "# -------------------------------------\n",
        "# Group 2   |    8       |     7      |\n",
        "# -------------------------------------\n",
        "observed_frequencies = [[10, 5],\n",
        "                        [8, 7]]\n",
        "\n",
        "# G-test\n",
        "\"\"\"\n",
        "Explanation:\n",
        "- The G-test, also known as the likelihood ratio test, is used to compare the fit of observed frequencies to expected frequencies in contingency tables.\n",
        "- It is a more flexible alternative to the chi-square test and can handle sparse data or small expected frequencies more effectively.\n",
        "- The G-test calculates the likelihood ratio between the null hypothesis model (expected frequencies) and the alternative hypothesis model (observed frequencies).\n",
        "- This test is particularly useful when dealing with contingency tables with small sample sizes or when the chi-square test assumptions are violated.\n",
        "\"\"\"\n",
        "\n",
        "# Perform G-test\n",
        "chi2_statistic, p_value, _, _ = chi2_contingency(observed_frequencies)\n",
        "\n",
        "# Print results\n",
        "print(\"Chi-square Statistic (G-test):\", chi2_statistic)\n",
        "print(\"P-value:\", p_value)\n",
        "\n",
        "# Decision based on p-value\n",
        "alpha = 0.05  # Significance level\n",
        "if p_value < alpha:\n",
        "    print(\"Reject the null hypothesis: Observed frequencies differ significantly from expected frequencies.\")\n",
        "else:\n",
        "    print(\"Fail to reject the null hypothesis: No significant difference between observed and expected frequencies.\")\n"
      ],
      "metadata": {
        "colab": {
          "base_uri": "https://localhost:8080/"
        },
        "id": "qgTVoUKxDzfr",
        "outputId": "b999fc64-578c-4e12-d9b9-afb76ddcfdcb"
      },
      "execution_count": null,
      "outputs": [
        {
          "output_type": "stream",
          "name": "stdout",
          "text": [
            "Chi-square Statistic (G-test): 0.1388888888888889\n",
            "P-value: 0.7093881150142264\n",
            "Fail to reject the null hypothesis: No significant difference between observed and expected frequencies.\n"
          ]
        }
      ]
    }
  ]
}